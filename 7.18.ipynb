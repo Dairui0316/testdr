{
 "cells": [
  {
   "cell_type": "markdown",
   "metadata": {},
   "source": [
    "# 选择\n",
    "## 布尔类型、数值和表达式\n",
    "![](../Photo/33.png)\n",
    "- 注意：比较运算符的相等是两个等到，一个等到代表赋值\n",
    "- 在Python中可以用整型0来代表False，其他数字来代表True\n",
    "- 后面还会讲到 is 在判断语句中的用发\n",
    "- 字符串的比较是使用ASCII值"
   ]
  },
  {
   "cell_type": "code",
   "execution_count": 1,
   "metadata": {},
   "outputs": [
    {
     "data": {
      "text/plain": [
       "False"
      ]
     },
     "execution_count": 1,
     "metadata": {},
     "output_type": "execute_result"
    }
   ],
   "source": [
    "a=100\n",
    "b=100\n",
    "a<b"
   ]
  },
  {
   "cell_type": "code",
   "execution_count": 2,
   "metadata": {},
   "outputs": [
    {
     "data": {
      "text/plain": [
       "True"
      ]
     },
     "execution_count": 2,
     "metadata": {},
     "output_type": "execute_result"
    }
   ],
   "source": [
    "c='jokor'\n",
    "d='djfk'\n",
    "c>d\n"
   ]
  },
  {
   "cell_type": "code",
   "execution_count": 3,
   "metadata": {},
   "outputs": [
    {
     "data": {
      "text/plain": [
       "True"
      ]
     },
     "execution_count": 3,
     "metadata": {},
     "output_type": "execute_result"
    }
   ],
   "source": [
    "e=100\n",
    "f=100\n",
    "e==f\n"
   ]
  },
  {
   "cell_type": "code",
   "execution_count": 4,
   "metadata": {},
   "outputs": [
    {
     "data": {
      "text/plain": [
       "True"
      ]
     },
     "execution_count": 4,
     "metadata": {},
     "output_type": "execute_result"
    }
   ],
   "source": [
    "e2=101\n",
    "f2=102\n",
    "e2!=f2\n"
   ]
  },
  {
   "cell_type": "markdown",
   "metadata": {},
   "source": [
    "## EP:\n",
    "- <img src=\"../Photo/34.png\"></img>\n",
    "- 输入一个数字，判断其实奇数还是偶数"
   ]
  },
  {
   "cell_type": "code",
   "execution_count": 11,
   "metadata": {},
   "outputs": [
    {
     "name": "stdout",
     "output_type": "stream",
     "text": [
      "1\n",
      "0\n",
      "True\n",
      "False\n"
     ]
    }
   ],
   "source": [
    "i=int(True)\n",
    "print(i)\n",
    "j=int(False)\n",
    "print(j)\n",
    "b1=bool(4)\n",
    "print(b1)\n",
    "b2=bool(0)\n",
    "print(b2)"
   ]
  },
  {
   "cell_type": "code",
   "execution_count": 17,
   "metadata": {},
   "outputs": [
    {
     "name": "stdout",
     "output_type": "stream",
     "text": [
      "输入一个数字：6954\n",
      "6954\n",
      "偶数\n"
     ]
    }
   ],
   "source": [
    "sz=eval(input('输入一个数字：'))\n",
    "print(sz)\n",
    "jo=sz%2\n",
    "if jo==0:\n",
    "    print(\"偶数\")\n",
    "else:\n",
    "    print('奇数')"
   ]
  },
  {
   "cell_type": "code",
   "execution_count": 82,
   "metadata": {},
   "outputs": [
    {
     "name": "stdout",
     "output_type": "stream",
     "text": [
      "733\n",
      "no水仙\n"
     ]
    }
   ],
   "source": [
    "import random\n",
    "num1=random.randrange(100,1000)\n",
    "print(num1)\n",
    "q=num1//1000\n",
    "b=num1//100%10\n",
    "s=num1%100//10\n",
    "g=num1%10\n",
    "if num1==q**3+b**3+s**3+g**3:\n",
    "    print('这是水仙花数')\n",
    "else:\n",
    "    print('no水仙')"
   ]
  },
  {
   "cell_type": "markdown",
   "metadata": {},
   "source": [
    "## 产生随机数字\n",
    "- 函数random.randint(a,b) 可以用来产生一个a和b之间且包括a和b的随机整数"
   ]
  },
  {
   "cell_type": "code",
   "execution_count": 22,
   "metadata": {},
   "outputs": [
    {
     "name": "stdout",
     "output_type": "stream",
     "text": [
      "5\n"
     ]
    }
   ],
   "source": [
    "import random\n",
    "a1=random.randint(0,5)\n",
    "print(a1)"
   ]
  },
  {
   "cell_type": "code",
   "execution_count": 23,
   "metadata": {},
   "outputs": [
    {
     "data": {
      "text/plain": [
       "0.9311994903115749"
      ]
     },
     "execution_count": 23,
     "metadata": {},
     "output_type": "execute_result"
    }
   ],
   "source": [
    "random.random()"
   ]
  },
  {
   "cell_type": "code",
   "execution_count": 50,
   "metadata": {},
   "outputs": [
    {
     "data": {
      "text/plain": [
       "2"
      ]
     },
     "execution_count": 50,
     "metadata": {},
     "output_type": "execute_result"
    }
   ],
   "source": [
    "random.randrange(0,10,2)"
   ]
  },
  {
   "cell_type": "code",
   "execution_count": 51,
   "metadata": {},
   "outputs": [
    {
     "data": {
      "text/plain": [
       "<random.Random at 0x66e7fc8>"
      ]
     },
     "execution_count": 51,
     "metadata": {},
     "output_type": "execute_result"
    }
   ],
   "source": [
    "random.Random()"
   ]
  },
  {
   "cell_type": "markdown",
   "metadata": {},
   "source": [
    "## EP：\n",
    "- 产生两个随机整数number1和number2，然后显示给用户，使用户输入数字，并判定其是否正确\n",
    "- 进阶:写一个随机序号点名程序"
   ]
  },
  {
   "cell_type": "code",
   "execution_count": 121,
   "metadata": {},
   "outputs": [
    {
     "name": "stdout",
     "output_type": "stream",
     "text": [
      "1\n",
      "3\n",
      "请输入一个数字的和100\n",
      "错误\n"
     ]
    }
   ],
   "source": [
    "import random\n",
    "num1=random.randint(0,5)\n",
    "num2=random.randint(0,5)\n",
    "print(num1)\n",
    "print(num2)\n",
    "yh=eval(input('请输入一个数字的和'))\n",
    "if yh==num1+num2:\n",
    "    print('正确')\n",
    "else:\n",
    "    print('错误')"
   ]
  },
  {
   "cell_type": "code",
   "execution_count": 208,
   "metadata": {},
   "outputs": [
    {
     "name": "stdout",
     "output_type": "stream",
     "text": [
      "北京时间 : Wed Jul 18 11:06:04 2018\n",
      "请出示您的git账号： 00\n"
     ]
    }
   ],
   "source": [
    "import random\n",
    "num1=random.randint(0,3)\n",
    "num2=random.randint(0,3)\n",
    "num3=random.randint(0,2)\n",
    "s=str(num1)\n",
    "g=str(num2)\n",
    "g1=str(num3)\n",
    "import time\n",
    " \n",
    "localtime = time.asctime( time.localtime(time.time()))\n",
    "if num1<2:\n",
    "    print(\"北京时间 :\",localtime)\n",
    "    print('请出示您的git账号：',s+g)\n",
    "else: \n",
    "    print(\"北京时间 :\",localtime)\n",
    "    print('请出示您的git账号：',s+g1)\n"
   ]
  },
  {
   "cell_type": "markdown",
   "metadata": {},
   "source": [
    "##  其他random方法\n",
    "- random.random 返回0.0到1.0之间前闭后开区间的随机浮点\n",
    "- random.randrange(a,b) 前闭后开"
   ]
  },
  {
   "cell_type": "markdown",
   "metadata": {},
   "source": [
    "## if语句\n",
    "- 如果条件正确就执行一个单向if语句，亦即当条件为真的时候才执行if内部的语句\n",
    "- Python有很多选择语句:\n",
    "> - 单向if \n",
    "  - 双向if-else\n",
    "  - 嵌套if\n",
    "  - 多向if-elif-else\n",
    "  \n",
    "- 注意：当语句含有子语句的时候，那么一定至少要有一个缩进，也就是说如果有儿子存在，那么一定要缩进\n",
    "- 切记不可table键和space混用，单用table 或者 space\n",
    "- 当你输出的结果是无论if是否为真时都需要显示时，语句应该与if对齐"
   ]
  },
  {
   "cell_type": "code",
   "execution_count": 190,
   "metadata": {},
   "outputs": [
    {
     "name": "stdout",
     "output_type": "stream",
     "text": [
      "jdjfkd\n"
     ]
    }
   ],
   "source": [
    "if 'a'=='b':\n",
    "    print('hahah')\n",
    "print('jdjfkd')\n",
    "    "
   ]
  },
  {
   "cell_type": "markdown",
   "metadata": {},
   "source": [
    "## EP：\n",
    "- 用户输入一个数字，判断其实奇数还是偶数\n",
    "- 进阶：可以查看下4.5实例研究猜生日"
   ]
  },
  {
   "cell_type": "markdown",
   "metadata": {},
   "source": [
    "## 双向if-else 语句\n",
    "- 如果条件为真，那么走if内部语句，否则走else内部语句"
   ]
  },
  {
   "cell_type": "code",
   "execution_count": 209,
   "metadata": {},
   "outputs": [
    {
     "name": "stdout",
     "output_type": "stream",
     "text": [
      "jdjfkd\n"
     ]
    }
   ],
   "source": [
    "if 'a'=='b':\n",
    "    print('hahah')\n",
    "else:\n",
    "    print('jdjfkd')\n",
    "    "
   ]
  },
  {
   "cell_type": "code",
   "execution_count": 210,
   "metadata": {},
   "outputs": [
    {
     "name": "stdout",
     "output_type": "stream",
     "text": [
      "JOKER\n"
     ]
    }
   ],
   "source": [
    "if 'a'=='b':\n",
    "    print('hahah')\n",
    "elif 'a'=='c':\n",
    "    print('lalal')\n",
    "else:\n",
    "    print('JOKER')"
   ]
  },
  {
   "cell_type": "code",
   "execution_count": null,
   "metadata": {},
   "outputs": [],
   "source": [
    "import random\n",
    "sj="
   ]
  },
  {
   "cell_type": "markdown",
   "metadata": {},
   "source": [
    "## EP：\n",
    "- 产生两个随机整数number1和number2，然后显示给用户，使用户输入数字，并判定其是否正确,如果正确打印“you‘re correct”，否则打印正确答案"
   ]
  },
  {
   "cell_type": "markdown",
   "metadata": {},
   "source": [
    "## 嵌套if 和多向if-elif-else\n",
    "![](../Photo/35.png)"
   ]
  },
  {
   "cell_type": "code",
   "execution_count": 220,
   "metadata": {},
   "outputs": [
    {
     "name": "stdout",
     "output_type": "stream",
     "text": [
      "学生分数65\n",
      "学生评级： D\n"
     ]
    }
   ],
   "source": [
    "score=eval(input('学生分数'))\n",
    "if score>=90.0:\n",
    "    grade='A'\n",
    "elif 90.0>score>=80.0:\n",
    "    grade='B'\n",
    "elif 80.0>score>=70.0:\n",
    "    grade='C'\n",
    "elif 70.0>score>=60.0:\n",
    "    grade='D'\n",
    "else:\n",
    "    grade='F'\n",
    "print('学生评级：',grade)"
   ]
  },
  {
   "cell_type": "markdown",
   "metadata": {},
   "source": [
    "## EP：\n",
    "- 提示用户输入一个年份，然后显示表示这一年的动物\n",
    "![](../Photo/36.png)\n",
    "- 计算身体质量指数的程序\n",
    "- BMI = 以千克为单位的体重除以以米为单位的身高\n",
    "![](../Photo/37.png)"
   ]
  },
  {
   "cell_type": "code",
   "execution_count": null,
   "metadata": {},
   "outputs": [],
   "source": []
  },
  {
   "cell_type": "code",
   "execution_count": 229,
   "metadata": {},
   "outputs": [
    {
     "name": "stdout",
     "output_type": "stream",
     "text": [
      "请输入一个年份1988\n",
      "1988年是龙年\n"
     ]
    }
   ],
   "source": [
    "year=eval(input('请输入一个年份'))\n",
    "year1=str(year)\n",
    "animal=year%12\n",
    "if animal==0:\n",
    "    dw='猴'\n",
    "elif animal==1:\n",
    "    dw='鸡'\n",
    "elif animal==2:\n",
    "    dw='狗'\n",
    "elif animal==3:\n",
    "    dw='猪'\n",
    "elif animal==4:\n",
    "    dw='鼠'\n",
    "elif animal==5:\n",
    "    dw='牛'\n",
    "elif animal==6:\n",
    "    dw='虎'\n",
    "elif animal==7:\n",
    "    dw='兔'\n",
    "elif animal==8:\n",
    "    dw='龙'\n",
    "elif animal==9:\n",
    "    dw='蛇'\n",
    "elif animal==10:\n",
    "    dw='马'\n",
    "else:\n",
    "    dw='羊'\n",
    "print(year1+'年是'+dw+'年')"
   ]
  },
  {
   "cell_type": "markdown",
   "metadata": {},
   "source": [
    "## 逻辑运算符\n",
    "![](../Photo/38.png)"
   ]
  },
  {
   "cell_type": "markdown",
   "metadata": {},
   "source": [
    "![](../Photo/39.png)\n",
    "![](../Photo/40.png)"
   ]
  },
  {
   "cell_type": "code",
   "execution_count": 230,
   "metadata": {},
   "outputs": [
    {
     "data": {
      "text/plain": [
       "True"
      ]
     },
     "execution_count": 230,
     "metadata": {},
     "output_type": "execute_result"
    }
   ],
   "source": [
    "100==100 & 100==100"
   ]
  },
  {
   "cell_type": "code",
   "execution_count": 232,
   "metadata": {},
   "outputs": [
    {
     "data": {
      "text/plain": [
       "True"
      ]
     },
     "execution_count": 232,
     "metadata": {},
     "output_type": "execute_result"
    }
   ],
   "source": [
    "100==100 or 100==101"
   ]
  },
  {
   "cell_type": "code",
   "execution_count": 233,
   "metadata": {},
   "outputs": [
    {
     "data": {
      "text/plain": [
       "False"
      ]
     },
     "execution_count": 233,
     "metadata": {},
     "output_type": "execute_result"
    }
   ],
   "source": [
    "4>=5>=0"
   ]
  },
  {
   "cell_type": "code",
   "execution_count": 234,
   "metadata": {},
   "outputs": [
    {
     "data": {
      "text/plain": [
       "False"
      ]
     },
     "execution_count": 234,
     "metadata": {},
     "output_type": "execute_result"
    }
   ],
   "source": [
    "4>=5 and 5>=0"
   ]
  },
  {
   "cell_type": "markdown",
   "metadata": {},
   "source": [
    "## EP：\n",
    "- 判定闰年：一个年份如果能被4整除但不能被100整除，或者能被400整除，那么这个年份就是闰年\n",
    "- 提示用户输入一个年份，并返回是否是闰年\n",
    "- 提示用户输入一个数字，判断其是否为水仙花数"
   ]
  },
  {
   "cell_type": "code",
   "execution_count": 254,
   "metadata": {},
   "outputs": [
    {
     "name": "stdout",
     "output_type": "stream",
     "text": [
      "请输入一个年份2008\n",
      "2008年是闰年\n"
     ]
    }
   ],
   "source": [
    "year=eval(input('请输入一个年份'))\n",
    "\n",
    "year2=str(year)\n",
    "if (year%4==0 and (year%100)!=0) or year%400==0:\n",
    "    dw='闰'\n",
    "else:\n",
    "    dw='no闰'\n",
    "print(year2+'年是'+dw+'年')"
   ]
  },
  {
   "cell_type": "markdown",
   "metadata": {},
   "source": [
    "## 实例研究：彩票\n",
    "![](../Photo/41.png)"
   ]
  },
  {
   "cell_type": "code",
   "execution_count": 265,
   "metadata": {},
   "outputs": [
    {
     "name": "stdout",
     "output_type": "stream",
     "text": [
      "12\n",
      "请输入两位彩票数字：21\n",
      "赢得奖金，奖金为3000美元\n"
     ]
    }
   ],
   "source": [
    "import random\n",
    "cp=random.randint(10,100)\n",
    "print(cp)\n",
    "sw=cp//10\n",
    "gw=cp%10\n",
    "yh=eval(input('请输入两位彩票数字：'))\n",
    "sw1=yh//10\n",
    "gw1=yh%10\n",
    "if sw==sw1 and gw==gw1:\n",
    "    print('赢得奖金，奖金为10000美元')\n",
    "elif  sw==gw1 and gw==sw1:\n",
    "    print('赢得奖金，奖金为3000美元')\n",
    "elif sw==sw1 or gw==gw1 or sw==gw1 or gw==sw1:\n",
    "    print('赢得奖金，奖金为1000美元')\n",
    "else:\n",
    "    print('no赢得奖金')"
   ]
  },
  {
   "cell_type": "markdown",
   "metadata": {},
   "source": [
    "# Homework\n",
    "- 1\n",
    "![](../Photo/42.png)"
   ]
  },
  {
   "cell_type": "code",
   "execution_count": 277,
   "metadata": {},
   "outputs": [
    {
     "name": "stdout",
     "output_type": "stream",
     "text": [
      "输入a的值：1.\n",
      "输入b的值：3\n",
      "输入c的值：1\n",
      "方程判别式为正有两个根为：-0.381966和-2.618034\n"
     ]
    }
   ],
   "source": [
    "a=eval(input('输入a的值：'))\n",
    "b=eval(input('输入b的值：'))\n",
    "c=eval(input('输入c的值：'))\n",
    "gh=b*b-4*a*c\n",
    "if gh>0:\n",
    "    import math\n",
    "    gh1=math.sqrt(gh)\n",
    "    r1=(-b+gh1)/(2*a)\n",
    "    r2=(-b-gh1)/(2*a)\n",
    "    print('方程判别式为正有两个根为：%f和%f'%(r1,r2))\n",
    "elif gh==0:\n",
    "    r=(-b)/(2*a)\n",
    "    print('方程判别式为正有一个根为：',r)\n",
    "else:\n",
    "    print('the equation has no real roots')"
   ]
  },
  {
   "cell_type": "markdown",
   "metadata": {},
   "source": [
    "- 2\n",
    "![](../Photo/43.png)"
   ]
  },
  {
   "cell_type": "code",
   "execution_count": 1,
   "metadata": {},
   "outputs": [
    {
     "name": "stdout",
     "output_type": "stream",
     "text": [
      "11 32\n",
      "请输入两位数字的和：43\n",
      "Ture\n"
     ]
    }
   ],
   "source": [
    "import random\n",
    "cp1=random.randint(0,100)\n",
    "cp2=random.randint(0,100)\n",
    "print(cp1,cp2)\n",
    "\n",
    "yha=eval(input('请输入两位数字的和：'))\n",
    "\n",
    "if yha==cp1+cp2:\n",
    "    print('Ture')\n",
    "\n",
    "else:\n",
    "    print('False')"
   ]
  },
  {
   "cell_type": "markdown",
   "metadata": {},
   "source": [
    "- 3\n",
    "![](../Photo/44.png)"
   ]
  },
  {
   "cell_type": "code",
   "execution_count": 2,
   "metadata": {},
   "outputs": [
    {
     "name": "stdout",
     "output_type": "stream",
     "text": [
      "请输入一天数字：3\n",
      "3\n",
      "请输入天数：3\n",
      "今天是星期3啊3天后星期六\n"
     ]
    }
   ],
   "source": [
    "tian=eval(input('请输入一天数字：'))\n",
    "print(tian)\n",
    "tian1=str(tian)\n",
    "wtian=eval(input('请输入天数：'))\n",
    "wtian1=str(wtian)\n",
    "animal1=tian%7\n",
    "animal2=animal1+wtian\n",
    "animal=animal2%7\n",
    "if animal==0:\n",
    "    dw='星期天'\n",
    "elif animal==1:\n",
    "    dw='星期一'\n",
    "elif animal==2:\n",
    "    dw='星期二'\n",
    "elif animal==3:\n",
    "    dw='星期三'\n",
    "elif animal==4:\n",
    "    dw='星期四'\n",
    "elif animal==5:\n",
    "    dw='星期五'\n",
    "else:\n",
    "    dw='星期六'\n",
    "\n",
    "print('今天是星期'+tian1+'啊'+wtian1+'天后'+dw+'')"
   ]
  },
  {
   "cell_type": "markdown",
   "metadata": {},
   "source": [
    "- 4\n",
    "![](../Photo/45.png)"
   ]
  },
  {
   "cell_type": "code",
   "execution_count": 6,
   "metadata": {},
   "outputs": [
    {
     "name": "stdout",
     "output_type": "stream",
     "text": [
      "请输入a数字：2\n",
      "请输入b数字：3\n",
      "请输入c数字：1\n",
      "1 2 3\n"
     ]
    }
   ],
   "source": [
    "t1=eval(input('请输入a数字：'))\n",
    "t2=eval(input('请输入b数字：'))\n",
    "t3=eval(input('请输入c数字：'))\n",
    "if t1>=t2>=t3:\n",
    "    print(t3,t2,t1)\n",
    "elif t2>=t1>=t3:\n",
    "    print(t3,t1,t2)\n",
    "elif t1>=t3>=t2:\n",
    "    print(t2,t3,t1)\n",
    "elif t2>=t3>=t1:\n",
    "    print(t1,t3,t2)\n",
    "elif t3>=t1>=t2:\n",
    "    print(t2,t1,t3)\n",
    "elif t3>=t2>=t1:\n",
    "    print(t1,t2,t3)\n"
   ]
  },
  {
   "cell_type": "markdown",
   "metadata": {},
   "source": [
    "- 5\n",
    "![](../Photo/46.png)"
   ]
  },
  {
   "cell_type": "code",
   "execution_count": 3,
   "metadata": {},
   "outputs": [
    {
     "name": "stdout",
     "output_type": "stream",
     "text": [
      "请输入a价格：24.59\n",
      "请输入b价格：50\n",
      "请输入a价格：11.99\n",
      "请输入b价格：25\n",
      "package 2 has the better price\n"
     ]
    }
   ],
   "source": [
    "j1=eval(input('请输入a价格：'))\n",
    "j2=eval(input('请输入b价格：'))\n",
    "z1=eval(input('请输入a价格：'))\n",
    "z2=eval(input('请输入b价格：'))\n",
    "gh=j1/z1\n",
    "gh1=j2/z2\n",
    "if gh>gh1:\n",
    "    print('package 2 has the better price')\n",
    "else:\n",
    "    print('package 2 has the better price')\n",
    "\n"
   ]
  },
  {
   "cell_type": "markdown",
   "metadata": {},
   "source": [
    "- 6\n",
    "![](../Photo/47.png)"
   ]
  },
  {
   "cell_type": "code",
   "execution_count": 15,
   "metadata": {},
   "outputs": [
    {
     "name": "stdout",
     "output_type": "stream",
     "text": [
      "请输入月份：2\n",
      "请输入年:2012\n",
      "2012 年 2 月份有29天\n"
     ]
    }
   ],
   "source": [
    "mou=eval(input('请输入月份：'))\n",
    "year=eval(input('请输入年:'))\n",
    "if mou==1 or mou==3 or mou==5 or mou==7 or mou==8 or mou==10 or mou==12:\n",
    "    print(year,'年',mou,'月份有31天')\n",
    "elif mou==4 or mou==6 or mou==9 or mou==11:\n",
    "    print(year,'年',mou,'月份有30天')\n",
    "else:\n",
    "    if (year%4==0 and (year%100)!=0) or year%400==0:\n",
    "        print(year,'年',mou,'月份有29天')\n",
    "    else:\n",
    "        print(year,'年',mou,'月份有28天')\n",
    "        \n",
    "    \n",
    "    \n"
   ]
  },
  {
   "cell_type": "markdown",
   "metadata": {},
   "source": [
    "- 7\n",
    "![](../Photo/48.png)"
   ]
  },
  {
   "cell_type": "code",
   "execution_count": 11,
   "metadata": {},
   "outputs": [
    {
     "name": "stdout",
     "output_type": "stream",
     "text": [
      "0\n",
      "请输入guess：5\n",
      "guess is wrong\n"
     ]
    }
   ],
   "source": [
    "import random\n",
    "cp1=random.randint(0,2)\n",
    "print(cp1)\n",
    "c1=eval(input('请输入guess：'))\n",
    "\n",
    "if cp1==c1:\n",
    "    print('guess is right')\n",
    "else:\n",
    "    print('guess is wrong')"
   ]
  },
  {
   "cell_type": "markdown",
   "metadata": {},
   "source": [
    "- 8\n",
    "![](../Photo/49.png)"
   ]
  },
  {
   "cell_type": "code",
   "execution_count": 6,
   "metadata": {},
   "outputs": [
    {
     "name": "stdout",
     "output_type": "stream",
     "text": [
      "2\n",
      "请出数:0\n",
      "用户赢\n"
     ]
    }
   ],
   "source": [
    "import random\n",
    "cp1=random.randrange(0,3)\n",
    "print(cp1)\n",
    "yhh=eval(input('请出数:'))\n",
    "if cp1==yhh:\n",
    "    print('平局')\n",
    "elif (cp1==1 and yhh==0) or (cp1==2 and yhh==1) or (cp1==0 and yhh==2):\n",
    "    print('计算机赢')\n",
    "else:\n",
    "    print('用户赢')"
   ]
  },
  {
   "cell_type": "markdown",
   "metadata": {},
   "source": [
    "- 9\n",
    "![](../Photo/50.png)"
   ]
  },
  {
   "cell_type": "code",
   "execution_count": 11,
   "metadata": {},
   "outputs": [
    {
     "name": "stdout",
     "output_type": "stream",
     "text": [
      "请输入月份：5\n",
      "请输入年:2012\n",
      "请输入天数:12\n"
     ]
    },
    {
     "ename": "TypeError",
     "evalue": "unsupported operand type(s) for +: 'int' and 'list'",
     "output_type": "error",
     "traceback": [
      "\u001b[1;31m---------------------------------------------------------------------------\u001b[0m",
      "\u001b[1;31mTypeError\u001b[0m                                 Traceback (most recent call last)",
      "\u001b[1;32m<ipython-input-11-36032b2bdd9e>\u001b[0m in \u001b[0;36m<module>\u001b[1;34m()\u001b[0m\n\u001b[0;32m      6\u001b[0m     \u001b[0mh\u001b[0m\u001b[1;33m=\u001b[0m\u001b[1;33m(\u001b[0m\u001b[0mq\u001b[0m\u001b[1;33m+\u001b[0m\u001b[1;33m[\u001b[0m\u001b[1;36m26\u001b[0m\u001b[1;33m*\u001b[0m\u001b[1;33m(\u001b[0m\u001b[0mmou\u001b[0m\u001b[1;33m+\u001b[0m\u001b[1;36m1\u001b[0m\u001b[1;33m)\u001b[0m\u001b[1;33m/\u001b[0m\u001b[1;36m10\u001b[0m\u001b[1;33m]\u001b[0m\u001b[1;33m+\u001b[0m\u001b[0myear\u001b[0m\u001b[1;33m%\u001b[0m\u001b[1;36m100\u001b[0m\u001b[1;33m+\u001b[0m\u001b[1;33m[\u001b[0m\u001b[1;33m(\u001b[0m\u001b[0myear\u001b[0m\u001b[1;33m%\u001b[0m\u001b[1;36m100\u001b[0m\u001b[1;33m)\u001b[0m\u001b[1;33m/\u001b[0m\u001b[1;36m4\u001b[0m\u001b[1;33m]\u001b[0m\u001b[1;33m+\u001b[0m\u001b[1;33m[\u001b[0m\u001b[1;33m(\u001b[0m\u001b[0myear\u001b[0m\u001b[1;33m/\u001b[0m\u001b[1;36m100\u001b[0m\u001b[1;33m)\u001b[0m\u001b[1;33m/\u001b[0m\u001b[1;36m4\u001b[0m\u001b[1;33m]\u001b[0m\u001b[1;33m+\u001b[0m\u001b[1;36m5\u001b[0m\u001b[1;33m(\u001b[0m\u001b[0myear\u001b[0m\u001b[1;33m/\u001b[0m\u001b[1;36m100\u001b[0m\u001b[1;33m)\u001b[0m\u001b[1;33m)\u001b[0m\u001b[1;33m%\u001b[0m\u001b[1;36m7\u001b[0m\u001b[1;33m\u001b[0m\u001b[0m\n\u001b[0;32m      7\u001b[0m \u001b[1;32melse\u001b[0m\u001b[1;33m:\u001b[0m\u001b[1;33m\u001b[0m\u001b[0m\n\u001b[1;32m----> 8\u001b[1;33m     \u001b[0mh\u001b[0m\u001b[1;33m=\u001b[0m\u001b[1;33m(\u001b[0m\u001b[0mq\u001b[0m\u001b[1;33m+\u001b[0m\u001b[1;33m[\u001b[0m\u001b[1;36m26\u001b[0m\u001b[1;33m*\u001b[0m\u001b[1;33m(\u001b[0m\u001b[0mmou\u001b[0m\u001b[1;33m+\u001b[0m\u001b[1;36m1\u001b[0m\u001b[1;33m)\u001b[0m\u001b[1;33m/\u001b[0m\u001b[1;36m10\u001b[0m\u001b[1;33m]\u001b[0m\u001b[1;33m+\u001b[0m\u001b[0myear\u001b[0m\u001b[1;33m%\u001b[0m\u001b[1;36m100\u001b[0m\u001b[1;33m+\u001b[0m\u001b[1;33m[\u001b[0m\u001b[1;33m(\u001b[0m\u001b[0myear\u001b[0m\u001b[1;33m%\u001b[0m\u001b[1;36m100\u001b[0m\u001b[1;33m)\u001b[0m\u001b[1;33m/\u001b[0m\u001b[1;36m4\u001b[0m\u001b[1;33m]\u001b[0m\u001b[1;33m+\u001b[0m\u001b[1;33m[\u001b[0m\u001b[1;33m(\u001b[0m\u001b[0myear\u001b[0m\u001b[1;33m/\u001b[0m\u001b[1;36m100\u001b[0m\u001b[1;33m)\u001b[0m\u001b[1;33m/\u001b[0m\u001b[1;36m4\u001b[0m\u001b[1;33m]\u001b[0m\u001b[1;33m+\u001b[0m\u001b[1;36m5\u001b[0m\u001b[1;33m(\u001b[0m\u001b[0myear\u001b[0m\u001b[1;33m/\u001b[0m\u001b[1;36m100\u001b[0m\u001b[1;33m)\u001b[0m\u001b[1;33m)\u001b[0m\u001b[1;33m%\u001b[0m\u001b[1;36m7\u001b[0m\u001b[1;33m\u001b[0m\u001b[0m\n\u001b[0m\u001b[0;32m      9\u001b[0m \u001b[0mprint\u001b[0m\u001b[1;33m(\u001b[0m\u001b[0mh\u001b[0m\u001b[1;33m)\u001b[0m\u001b[1;33m\u001b[0m\u001b[0m\n\u001b[0;32m     10\u001b[0m \u001b[1;32mif\u001b[0m \u001b[0mh\u001b[0m\u001b[1;33m==\u001b[0m\u001b[1;36m0\u001b[0m\u001b[1;33m:\u001b[0m\u001b[1;33m\u001b[0m\u001b[0m\n",
      "\u001b[1;31mTypeError\u001b[0m: unsupported operand type(s) for +: 'int' and 'list'"
     ]
    }
   ],
   "source": [
    "mou=eval(input('请输入月份：'))\n",
    "year=eval(input('请输入年:'))\n",
    "q=eval(input('请输入天数:'))\n",
    "if mou==1 or mou==2:\n",
    "    mou+=12\n",
    "    h=(q+[26*(mou+1)/10]+year%100+[(year%100)/4]+[(year/100)/4]+5(year/100))%7\n",
    "else:\n",
    "    h=(q+[26*(mou+1)/10]+year%100+[(year%100)/4]+[(year/100)/4]+5(year/100))%7\n",
    "print(h)\n",
    "if h==0:\n",
    "    dw='星期天'\n",
    "elif h==1:\n",
    "    dw='星期一'\n",
    "elif h==2:\n",
    "    dw='星期二'\n",
    "elif h==3:\n",
    "    dw='星期三'\n",
    "elif h==4:\n",
    "    dw='星期四'\n",
    "elif h==5:\n",
    "    dw='星期五'\n",
    "else:\n",
    "    dw='星期六'\n",
    "print(dw)"
   ]
  },
  {
   "cell_type": "markdown",
   "metadata": {},
   "source": [
    "- 10\n",
    "![](../Photo/51.png)"
   ]
  },
  {
   "cell_type": "code",
   "execution_count": 16,
   "metadata": {},
   "outputs": [
    {
     "name": "stdout",
     "output_type": "stream",
     "text": [
      "红桃3\n"
     ]
    }
   ],
   "source": [
    "huase=['梅花','红桃','放块','黑桃']\n",
    "dax=['Ace','2','3','4','5','6','7','8','9','10','J','Q','K']\n",
    "import random\n",
    "a=huase[random.randint(0,4)]\n",
    "b=dax[random.randint(0,13)]\n",
    "print(a+b)"
   ]
  },
  {
   "cell_type": "markdown",
   "metadata": {},
   "source": [
    "- 11\n",
    "![](../Photo/52.png)"
   ]
  },
  {
   "cell_type": "code",
   "execution_count": 6,
   "metadata": {},
   "outputs": [
    {
     "name": "stdout",
     "output_type": "stream",
     "text": [
      "enter a three-digit interger:121\n",
      "121   is a polidrome\n"
     ]
    }
   ],
   "source": [
    "shu=eval(input('enter a three-digit interger:'))\n",
    "ba=shu//100\n",
    "sh=shu%100//10\n",
    "g=shu%10\n",
    "if ba==g:\n",
    "    print(shu,\"  is a polidrome\")\n",
    "else:\n",
    "    print(shu,\"  is a not polidrome\")"
   ]
  },
  {
   "cell_type": "markdown",
   "metadata": {},
   "source": [
    "- 12\n",
    "![](../Photo/53.png)"
   ]
  },
  {
   "cell_type": "code",
   "execution_count": 1,
   "metadata": {},
   "outputs": [
    {
     "name": "stdout",
     "output_type": "stream",
     "text": [
      "请输入a边：4\n",
      "请输入b边：5\n",
      "请输入c边：10\n",
      "不合法\n"
     ]
    }
   ],
   "source": [
    "a=eval(input('请输入a边：'))\n",
    "b=eval(input('请输入b边：'))\n",
    "c=eval(input('请输入c边：'))\n",
    "if (a+b>c and a+c>b and b+c>a):\n",
    "    print(s)\n",
    "    l=a+b+c\n",
    "    print('周长',l)\n",
    "else:\n",
    "    print('不合法')\n"
   ]
  }
 ],
 "metadata": {
  "kernelspec": {
   "display_name": "Python 3",
   "language": "python",
   "name": "python3"
  },
  "language_info": {
   "codemirror_mode": {
    "name": "ipython",
    "version": 3
   },
   "file_extension": ".py",
   "mimetype": "text/x-python",
   "name": "python",
   "nbconvert_exporter": "python",
   "pygments_lexer": "ipython3",
   "version": "3.6.4"
  }
 },
 "nbformat": 4,
 "nbformat_minor": 2
}
