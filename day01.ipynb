{
 "cells": [
  {
   "cell_type": "code",
   "execution_count": 1,
   "metadata": {},
   "outputs": [
    {
     "name": "stdout",
     "output_type": "stream",
     "text": [
      "Hello World\n"
     ]
    }
   ],
   "source": [
    "print(\"Hello World\")"
   ]
  },
  {
   "cell_type": "code",
   "execution_count": 2,
   "metadata": {},
   "outputs": [
    {
     "name": "stdout",
     "output_type": "stream",
     "text": [
      "joker is bad man\n"
     ]
    }
   ],
   "source": [
    "print('joker is bad man')"
   ]
  },
  {
   "cell_type": "code",
   "execution_count": 4,
   "metadata": {},
   "outputs": [
    {
     "name": "stdout",
     "output_type": "stream",
     "text": [
      "31400.0\n"
     ]
    }
   ],
   "source": [
    "radius=100 #定义变量\n",
    "area=radius*radius*3.14  #普通代码 * 代表乘法\n",
    "print(area) #最后打印结果"
   ]
  },
  {
   "cell_type": "code",
   "execution_count": 4,
   "metadata": {},
   "outputs": [
    {
     "name": "stdout",
     "output_type": "stream",
     "text": [
      "请输入一个数字:12\n",
      "121212\n"
     ]
    }
   ],
   "source": [
    "variable=input('请输入一个数字:')\n",
    "variable=variable*3\n",
    "print(variable)"
   ]
  },
  {
   "cell_type": "code",
   "execution_count": 6,
   "metadata": {},
   "outputs": [],
   "source": [
    "import os\n",
    "def go(num):\n",
    "    os.system('echo hahaha')\n",
    "print=go\n",
    "print(12)\n"
   ]
  },
  {
   "cell_type": "code",
   "execution_count": 1,
   "metadata": {},
   "outputs": [
    {
     "name": "stdout",
     "output_type": "stream",
     "text": [
      "12\n"
     ]
    }
   ],
   "source": [
    "print(12)"
   ]
  },
  {
   "cell_type": "code",
   "execution_count": 2,
   "metadata": {},
   "outputs": [
    {
     "name": "stdout",
     "output_type": "stream",
     "text": [
      "201\n"
     ]
    }
   ],
   "source": [
    "x=100\n",
    "x=2*x+1  #赋值语句，在复制之前，一定要有值\n",
    "print(x)\n"
   ]
  },
  {
   "cell_type": "code",
   "execution_count": 3,
   "metadata": {},
   "outputs": [
    {
     "name": "stdout",
     "output_type": "stream",
     "text": [
      "请输入一个数字:100\n",
      "100100100\n"
     ]
    }
   ],
   "source": [
    "variable=input('请输入一个数字:')\n",
    "variable=variable*3\n",
    "print(variable)"
   ]
  },
  {
   "cell_type": "code",
   "execution_count": 4,
   "metadata": {},
   "outputs": [
    {
     "name": "stdout",
     "output_type": "stream",
     "text": [
      "数字3\n",
      "333\n"
     ]
    }
   ],
   "source": [
    "a=input('数字')\n",
    "print(a*3)"
   ]
  },
  {
   "cell_type": "code",
   "execution_count": 5,
   "metadata": {},
   "outputs": [
    {
     "name": "stdout",
     "output_type": "stream",
     "text": [
      "数字100\n",
      "<class 'int'>\n",
      "300\n"
     ]
    }
   ],
   "source": [
    "a=eval(input('数字'))\n",
    "print(type(a))\n",
    "print(a*3)"
   ]
  },
  {
   "cell_type": "code",
   "execution_count": 6,
   "metadata": {},
   "outputs": [
    {
     "name": "stdout",
     "output_type": "stream",
     "text": [
      "数字3\n",
      "<class 'int'>\n",
      "27\n"
     ]
    }
   ],
   "source": [
    "a=eval(input('数字'))\n",
    "print(type(a))\n",
    "print(a*a*a)"
   ]
  },
  {
   "cell_type": "code",
   "execution_count": 7,
   "metadata": {},
   "outputs": [
    {
     "name": "stdout",
     "output_type": "stream",
     "text": [
      "输入工资：税率10%90\n",
      "<class 'int'>\n",
      "81.0\n"
     ]
    }
   ],
   "source": [
    "a=eval(input('输入工资：税率10%'))\n",
    "print(type(a))\n",
    "print(a*0.9)"
   ]
  },
  {
   "cell_type": "code",
   "execution_count": 11,
   "metadata": {},
   "outputs": [
    {
     "name": "stdout",
     "output_type": "stream",
     "text": [
      "hello 120 1203.3331 True\n"
     ]
    }
   ],
   "source": [
    "Dai,Meng,Yuan,hello='hello',120,1203.3331,True\n",
    "print(Dai,Meng,Yuan,hello)"
   ]
  },
  {
   "cell_type": "code",
   "execution_count": 12,
   "metadata": {},
   "outputs": [
    {
     "name": "stdout",
     "output_type": "stream",
     "text": [
      "True\n"
     ]
    }
   ],
   "source": [
    "chart=100.1\n",
    "chart='jajajaj'\n",
    "chart=True\n",
    "print(chart)\n"
   ]
  },
  {
   "cell_type": "code",
   "execution_count": 13,
   "metadata": {},
   "outputs": [
    {
     "name": "stdout",
     "output_type": "stream",
     "text": [
      "3.141592653589793\n"
     ]
    }
   ],
   "source": [
    "import math\n",
    "print(math.pi)"
   ]
  },
  {
   "cell_type": "code",
   "execution_count": 14,
   "metadata": {},
   "outputs": [
    {
     "name": "stdout",
     "output_type": "stream",
     "text": [
      "600\n"
     ]
    }
   ],
   "source": [
    "number1=100\n",
    "number2=500\n",
    "print(number1+number2)"
   ]
  },
  {
   "cell_type": "code",
   "execution_count": 21,
   "metadata": {},
   "outputs": [
    {
     "name": "stdout",
     "output_type": "stream",
     "text": [
      "100.0\n"
     ]
    }
   ],
   "source": [
    "number3=100.0\n",
    "number4=500.0\n",
    "print(number3%\n",
    "      number4)"
   ]
  },
  {
   "cell_type": "code",
   "execution_count": 22,
   "metadata": {},
   "outputs": [
    {
     "name": "stdout",
     "output_type": "stream",
     "text": [
      "6\n"
     ]
    }
   ],
   "source": [
    "res=25//4\n",
    "print(res)"
   ]
  },
  {
   "cell_type": "code",
   "execution_count": 25,
   "metadata": {},
   "outputs": [
    {
     "name": "stdout",
     "output_type": "stream",
     "text": [
      "请输入一个数字3\n",
      "1\n"
     ]
    }
   ],
   "source": [
    "num=eval(input('请输入一个数字'))\n",
    "print(num%2)\n"
   ]
  },
  {
   "cell_type": "code",
   "execution_count": 30,
   "metadata": {},
   "outputs": [
    {
     "name": "stdout",
     "output_type": "stream",
     "text": [
      "请输入一个数字2\n",
      "0\n",
      "偶数\n"
     ]
    }
   ],
   "source": [
    "num=eval(input('请输入一个数字'))\n",
    "print(num%2)\n",
    "if num%2==0:\n",
    "  print('偶数')\n",
    "else:\n",
    "  print('奇数')"
   ]
  },
  {
   "cell_type": "code",
   "execution_count": 37,
   "metadata": {},
   "outputs": [
    {
     "name": "stdout",
     "output_type": "stream",
     "text": [
      "请输入一个秒数500\n",
      "8 20\n"
     ]
    }
   ],
   "source": [
    "time=eval(input('请输入一个秒数'))\n",
    "print(time//60,time%60)"
   ]
  },
  {
   "cell_type": "code",
   "execution_count": 43,
   "metadata": {},
   "outputs": [
    {
     "name": "stdout",
     "output_type": "stream",
     "text": [
      "请输入一个秒数500\n",
      "8 分 20 秒\n",
      "8分20秒\n"
     ]
    }
   ],
   "source": [
    "time=eval(input('请输入一个秒数'))\n",
    "print(time//60,\"分\",time%60,'秒')\n",
    "print('%d分%d秒'%(time//60,time%60))"
   ]
  },
  {
   "cell_type": "code",
   "execution_count": 44,
   "metadata": {},
   "outputs": [
    {
     "name": "stdout",
     "output_type": "stream",
     "text": [
      "输入6\n",
      "5\n"
     ]
    }
   ],
   "source": [
    "time1=6\n",
    "time2=eval(input('输入'))\n",
    "resule=(time1+time2)%7\n",
    "print(resule)"
   ]
  },
  {
   "cell_type": "code",
   "execution_count": 1,
   "metadata": {},
   "outputs": [
    {
     "name": "stdout",
     "output_type": "stream",
     "text": [
      "x=1\n",
      "y=1\n",
      "a=1\n",
      "b=1\n",
      "c=1\n",
      "1.4\n",
      "-120.0\n",
      "126.0\n",
      "247.4\n"
     ]
    }
   ],
   "source": [
    "x=eval(input('x='))\n",
    "y=eval(input('y='))\n",
    "a=eval(input('a='))\n",
    "b=eval(input('b='))\n",
    "c=eval(input('c='))\n",
    "part_1=(3+4*x)/ 5\n",
    "print(part_1)\n",
    "part_2=(10*(y-5)*(a+b+c))/x\n",
    "print(part_2)\n",
    "part_3=9*(4/x+(9+x)/y)\n",
    "print(part_3)\n",
    "print(part_1- part_2 + part_3)"
   ]
  },
  {
   "cell_type": "code",
   "execution_count": 5,
   "metadata": {},
   "outputs": [
    {
     "name": "stdout",
     "output_type": "stream",
     "text": [
      "200\n"
     ]
    }
   ],
   "source": [
    "i=100\n",
    "i=--i+i\n",
    "print(i)"
   ]
  },
  {
   "cell_type": "code",
   "execution_count": 7,
   "metadata": {},
   "outputs": [
    {
     "name": "stdout",
     "output_type": "stream",
     "text": [
      "一个数370\n",
      "是水仙花\n"
     ]
    }
   ],
   "source": [
    "numb1=eval(input('一个数'))\n",
    "x=numb1//100\n",
    "y=numb1//10%10\n",
    "z=numb1%10\n",
    "if numb1==x**3+y**3+z**3:\n",
    "    print('是水仙花')\n",
    "else:\n",
    "    print('NO')\n"
   ]
  },
  {
   "cell_type": "code",
   "execution_count": 8,
   "metadata": {},
   "outputs": [
    {
     "data": {
      "text/plain": [
       "11.85"
      ]
     },
     "execution_count": 8,
     "metadata": {},
     "output_type": "execute_result"
    }
   ],
   "source": [
    "round(197.55e+2*0.06e-2,2)"
   ]
  },
  {
   "cell_type": "code",
   "execution_count": 14,
   "metadata": {},
   "outputs": [
    {
     "name": "stdout",
     "output_type": "stream",
     "text": [
      "请输入贷款数10000\n",
      "月利率2\n",
      "年限20\n",
      "4800000.0\n"
     ]
    }
   ],
   "source": [
    "贷款数=eval(input('请输入贷款数'))\n",
    "月利率=eval(input('月利率'))\n",
    "年限=eval(input('年限'))\n",
    "月供=((贷款数 * 月利率)/ (1-(1/(1 + 月利率)**(年限 * 12))))\n",
    "总还款数=月供*年限*12\n",
    "print(总还款数)"
   ]
  },
  {
   "cell_type": "code",
   "execution_count": 11,
   "metadata": {},
   "outputs": [
    {
     "name": "stdout",
     "output_type": "stream",
     "text": [
      "1531727275.758403\n"
     ]
    }
   ],
   "source": [
    "import time\n",
    "print(time.time())"
   ]
  }
 ],
 "metadata": {
  "kernelspec": {
   "display_name": "Python 3",
   "language": "python",
   "name": "python3"
  },
  "language_info": {
   "codemirror_mode": {
    "name": "ipython",
    "version": 3
   },
   "file_extension": ".py",
   "mimetype": "text/x-python",
   "name": "python",
   "nbconvert_exporter": "python",
   "pygments_lexer": "ipython3",
   "version": "3.6.4"
  }
 },
 "nbformat": 4,
 "nbformat_minor": 2
}
