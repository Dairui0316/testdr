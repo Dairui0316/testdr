{
 "cells": [
  {
   "cell_type": "markdown",
   "metadata": {},
   "source": [
    "# 数学函数、字符串和对象\n",
    "## 本章介绍Python函数来执行常见的数学运算\n",
    "- 函数是完成一个特殊任务的一组语句，可以理解为一个函数相当于一个小功能，但是在开发中，需要注意一个函数的长度最好不要超过一屏\n",
    "- Python中的内置函数是不需要Import导入的\n",
    "<img src=\"../Photo/15.png\"></img>"
   ]
  },
  {
   "cell_type": "code",
   "execution_count": 2,
   "metadata": {},
   "outputs": [
    {
     "name": "stdout",
     "output_type": "stream",
     "text": [
      "10.1\n"
     ]
    }
   ],
   "source": [
    "b=-10.1\n",
    "print(abs(b))"
   ]
  },
  {
   "cell_type": "code",
   "execution_count": 1,
   "metadata": {},
   "outputs": [
    {
     "name": "stdout",
     "output_type": "stream",
     "text": [
      "10\n"
     ]
    }
   ],
   "source": [
    "a=-10\n",
    "print(abs(a))"
   ]
  },
  {
   "cell_type": "code",
   "execution_count": 3,
   "metadata": {},
   "outputs": [
    {
     "name": "stdout",
     "output_type": "stream",
     "text": [
      "0\n"
     ]
    }
   ],
   "source": [
    "c=0\n",
    "print(abs(c))"
   ]
  },
  {
   "cell_type": "code",
   "execution_count": 5,
   "metadata": {},
   "outputs": [
    {
     "data": {
      "text/plain": [
       "8"
      ]
     },
     "execution_count": 5,
     "metadata": {},
     "output_type": "execute_result"
    }
   ],
   "source": [
    "max(1,2,3,4,8,6)"
   ]
  },
  {
   "cell_type": "code",
   "execution_count": 6,
   "metadata": {},
   "outputs": [
    {
     "data": {
      "text/plain": [
       "-1"
      ]
     },
     "execution_count": 6,
     "metadata": {},
     "output_type": "execute_result"
    }
   ],
   "source": [
    "min(5 ,-1,5,6)"
   ]
  },
  {
   "cell_type": "code",
   "execution_count": 7,
   "metadata": {},
   "outputs": [
    {
     "data": {
      "text/plain": [
       "True"
      ]
     },
     "execution_count": 7,
     "metadata": {},
     "output_type": "execute_result"
    }
   ],
   "source": [
    "max(True,False)"
   ]
  },
  {
   "cell_type": "code",
   "execution_count": 8,
   "metadata": {},
   "outputs": [
    {
     "name": "stdout",
     "output_type": "stream",
     "text": [
      "0\n",
      "1\n",
      "2\n",
      "3\n",
      "4\n",
      "5\n",
      "6\n",
      "7\n",
      "8\n",
      "9\n"
     ]
    }
   ],
   "source": [
    "for i in range(10):\n",
    "    print(i)"
   ]
  },
  {
   "cell_type": "code",
   "execution_count": 10,
   "metadata": {},
   "outputs": [
    {
     "data": {
      "text/plain": [
       "4"
      ]
     },
     "execution_count": 10,
     "metadata": {},
     "output_type": "execute_result"
    }
   ],
   "source": [
    "pow(2,2) #幂指数"
   ]
  },
  {
   "cell_type": "code",
   "execution_count": 11,
   "metadata": {},
   "outputs": [
    {
     "data": {
      "text/plain": [
       "0"
      ]
     },
     "execution_count": 11,
     "metadata": {},
     "output_type": "execute_result"
    }
   ],
   "source": [
    "pow(2,3,2) #第三个参数取余"
   ]
  },
  {
   "cell_type": "code",
   "execution_count": 13,
   "metadata": {},
   "outputs": [
    {
     "data": {
      "text/plain": [
       "55.25"
      ]
     },
     "execution_count": 13,
     "metadata": {},
     "output_type": "execute_result"
    }
   ],
   "source": [
    "round(55.2454,2)"
   ]
  },
  {
   "cell_type": "code",
   "execution_count": 14,
   "metadata": {},
   "outputs": [
    {
     "data": {
      "text/plain": [
       "6"
      ]
     },
     "execution_count": 14,
     "metadata": {},
     "output_type": "execute_result"
    }
   ],
   "source": [
    "round(5.5)"
   ]
  },
  {
   "cell_type": "markdown",
   "metadata": {},
   "source": [
    "## 尝试练习Python内置函数"
   ]
  },
  {
   "cell_type": "markdown",
   "metadata": {},
   "source": [
    "## Python中的math模块提供了许多数学函数\n",
    "<img src=\"../Photo/16.png\"></img>\n",
    "<img src=\"../Photo/17.png\"></img>\n"
   ]
  },
  {
   "cell_type": "code",
   "execution_count": 25,
   "metadata": {},
   "outputs": [
    {
     "name": "stdout",
     "output_type": "stream",
     "text": [
      "2.0\n",
      "6.123233995736766e-17\n"
     ]
    }
   ],
   "source": [
    "import math #导入包\n",
    "a1=math.fabs(-2)\n",
    "print(a1)\n",
    "b1=math.cos(math.radians(90))  #cos 带入的是弧度制，非常重要\n",
    "print(b1)"
   ]
  },
  {
   "cell_type": "code",
   "execution_count": 27,
   "metadata": {},
   "outputs": [
    {
     "data": {
      "text/plain": [
       "0.999999327347282"
      ]
     },
     "execution_count": 27,
     "metadata": {},
     "output_type": "execute_result"
    }
   ],
   "source": [
    "import math\n",
    "math.log(2.71828)"
   ]
  },
  {
   "cell_type": "code",
   "execution_count": 31,
   "metadata": {},
   "outputs": [
    {
     "data": {
      "text/plain": [
       "2.0"
      ]
     },
     "execution_count": 31,
     "metadata": {},
     "output_type": "execute_result"
    }
   ],
   "source": [
    "import math\n",
    "math.sqrt(4)"
   ]
  },
  {
   "cell_type": "code",
   "execution_count": 32,
   "metadata": {},
   "outputs": [
    {
     "data": {
      "text/plain": [
       "-2.4492935982947064e-16"
      ]
     },
     "execution_count": 32,
     "metadata": {},
     "output_type": "execute_result"
    }
   ],
   "source": [
    "import math\n",
    "math.sin(2*math.pi)"
   ]
  },
  {
   "cell_type": "code",
   "execution_count": 33,
   "metadata": {},
   "outputs": [
    {
     "data": {
      "text/plain": [
       "1.0"
      ]
     },
     "execution_count": 33,
     "metadata": {},
     "output_type": "execute_result"
    }
   ],
   "source": [
    "import math\n",
    "math.cos(2*math.pi)"
   ]
  },
  {
   "cell_type": "code",
   "execution_count": 34,
   "metadata": {},
   "outputs": [
    {
     "data": {
      "text/plain": [
       "1"
      ]
     },
     "execution_count": 34,
     "metadata": {},
     "output_type": "execute_result"
    }
   ],
   "source": [
    "min(2,2,1)"
   ]
  },
  {
   "cell_type": "code",
   "execution_count": 35,
   "metadata": {},
   "outputs": [
    {
     "data": {
      "text/plain": [
       "1.0"
      ]
     },
     "execution_count": 35,
     "metadata": {},
     "output_type": "execute_result"
    }
   ],
   "source": [
    "import math\n",
    "math.log(math.e)"
   ]
  },
  {
   "cell_type": "code",
   "execution_count": 36,
   "metadata": {},
   "outputs": [
    {
     "data": {
      "text/plain": [
       "2.718281828459045"
      ]
     },
     "execution_count": 36,
     "metadata": {},
     "output_type": "execute_result"
    }
   ],
   "source": [
    "import math\n",
    "math.exp(1)"
   ]
  },
  {
   "cell_type": "code",
   "execution_count": 37,
   "metadata": {},
   "outputs": [
    {
     "data": {
      "text/plain": [
       "4"
      ]
     },
     "execution_count": 37,
     "metadata": {},
     "output_type": "execute_result"
    }
   ],
   "source": [
    "max(2,3,4)"
   ]
  },
  {
   "cell_type": "code",
   "execution_count": 38,
   "metadata": {},
   "outputs": [
    {
     "data": {
      "text/plain": [
       "2.5"
      ]
     },
     "execution_count": 38,
     "metadata": {},
     "output_type": "execute_result"
    }
   ],
   "source": [
    "abs(-2.5)"
   ]
  },
  {
   "cell_type": "code",
   "execution_count": 39,
   "metadata": {},
   "outputs": [
    {
     "data": {
      "text/plain": [
       "-2"
      ]
     },
     "execution_count": 39,
     "metadata": {},
     "output_type": "execute_result"
    }
   ],
   "source": [
    "import math\n",
    "math.ceil(-2.5)"
   ]
  },
  {
   "cell_type": "code",
   "execution_count": 40,
   "metadata": {},
   "outputs": [
    {
     "data": {
      "text/plain": [
       "-3"
      ]
     },
     "execution_count": 40,
     "metadata": {},
     "output_type": "execute_result"
    }
   ],
   "source": [
    "import math\n",
    "math.floor(-2.5)"
   ]
  },
  {
   "cell_type": "code",
   "execution_count": 69,
   "metadata": {},
   "outputs": [
    {
     "name": "stdout",
     "output_type": "stream",
     "text": [
      "7+3=10\n",
      "验证码正确\n"
     ]
    }
   ],
   "source": [
    "\n",
    "res=input('7+3=')\n",
    "res1=eval(res)\n",
    "num_n=10\n",
    "if res1==10:\n",
    "    print('验证码正确')\n",
    "else:\n",
    "    print('验证码错误')"
   ]
  },
  {
   "cell_type": "code",
   "execution_count": 20,
   "metadata": {},
   "outputs": [
    {
     "name": "stdout",
     "output_type": "stream",
     "text": [
      "4+7=5\n",
      "验证码错误\n"
     ]
    }
   ],
   "source": [
    "import random\n",
    "num1=random.randrange(0,10)\n",
    "num2=random.randrange(0,10)\n",
    "res=input('%d+%d='%(num1,num2))\n",
    "res1=eval(res)\n",
    "num_n=num1+num2\n",
    "if res1==num_n:\n",
    "    print('验证码正确')\n",
    "else:\n",
    "    print('验证码错误')"
   ]
  },
  {
   "cell_type": "markdown",
   "metadata": {},
   "source": [
    "## 两个数学常量PI和e，可以通过使用math.pi 和math.e调用"
   ]
  },
  {
   "cell_type": "code",
   "execution_count": 22,
   "metadata": {},
   "outputs": [
    {
     "data": {
      "text/plain": [
       "2.718281828459045"
      ]
     },
     "execution_count": 22,
     "metadata": {},
     "output_type": "execute_result"
    }
   ],
   "source": [
    "import math\n",
    "math.e"
   ]
  },
  {
   "cell_type": "code",
   "execution_count": 23,
   "metadata": {},
   "outputs": [
    {
     "data": {
      "text/plain": [
       "3.141592653589793"
      ]
     },
     "execution_count": 23,
     "metadata": {},
     "output_type": "execute_result"
    }
   ],
   "source": [
    "import math\n",
    "math.pi"
   ]
  },
  {
   "cell_type": "markdown",
   "metadata": {},
   "source": [
    "## EP:\n",
    "- 通过math库，写一个程序，使得用户输入三个顶点(x,y)返回三个角度\n",
    "- 注意：Python计算角度为弧度制，需要将其转换为角度\n",
    "<img src=\"../Photo/18.png\">"
   ]
  },
  {
   "cell_type": "code",
   "execution_count": null,
   "metadata": {},
   "outputs": [],
   "source": [
    "x1=eval(input('x1'))\n",
    "x2=eval(input('x2'))\n",
    "y1=eval(input('y1'))\n",
    "y2=eval(input('y2'))\n",
    "x3=eval(input('x3'))\n",
    "y2=eval(input('y3'))\n",
    "a=math.sqrt((x2-x3)*)"
   ]
  },
  {
   "cell_type": "markdown",
   "metadata": {},
   "source": [
    "## 字符串和字符\n",
    "- 在Python中，字符串必须是在单引号或者双引号内，在多段换行的字符串中可以使用“”“\n",
    "- 在使用”“”时，给予其变量则变为字符串，否则当多行注释使用"
   ]
  },
  {
   "cell_type": "code",
   "execution_count": 27,
   "metadata": {},
   "outputs": [
    {
     "name": "stdout",
     "output_type": "stream",
     "text": [
      "<class 'str'> <class 'str'>\n",
      "I have a pillow with my name embroidered on it.\n",
      "我有一个绣着我名字的枕头。\n",
      "Thispieceofclothcanbeusedtomakeapairofpillowcases.\n",
      "这块布可以做一对枕套。\n",
      "Hetookoffhissweater,rolleditintoapillowandlaydownonthegrass.\n",
      "他脱下毛衣，将它卷成一个枕头，然后在草地上躺了下来。\n"
     ]
    }
   ],
   "source": [
    "a='joker'\n",
    "a1=\"hahahhahahah\"\n",
    "b1='''I have a pillow with my name embroidered on it.\n",
    "我有一个绣着我名字的枕头。\n",
    "Thispieceofclothcanbeusedtomakeapairofpillowcases.\n",
    "这块布可以做一对枕套。\n",
    "Hetookoffhissweater,rolleditintoapillowandlaydownonthegrass.\n",
    "他脱下毛衣，将它卷成一个枕头，然后在草地上躺了下来。'''\n",
    "\"\"\"Pillow是一个英语单词，意思是枕头，垫子，花边垫子。搁于枕上; \n",
    "当作枕头用。以…为枕。\"\"\"\n",
    "\n",
    "    #当6个引号没有赋值的时候那么它是注释的作用\n",
    "    #如果有赋值，那么僵尸字符串的作用\n",
    "    #6个引号的好处是可以换行注释\n",
    "print(type(a),type(a1))\n",
    "print(b1)"
   ]
  },
  {
   "cell_type": "markdown",
   "metadata": {},
   "source": [
    "## ASCII码与Unicode码\n",
    "- <img src=\"../Photo/19.png\"></img>\n",
    "- <img src=\"../Photo/20.png\"></img>\n",
    "- <img src=\"../Photo/21.png\"></img>"
   ]
  },
  {
   "cell_type": "code",
   "execution_count": 28,
   "metadata": {},
   "outputs": [
    {
     "data": {
      "text/plain": [
       "65"
      ]
     },
     "execution_count": 28,
     "metadata": {},
     "output_type": "execute_result"
    }
   ],
   "source": [
    "joker='A'\n",
    "ord(joker)"
   ]
  },
  {
   "cell_type": "code",
   "execution_count": 30,
   "metadata": {},
   "outputs": [
    {
     "data": {
      "text/plain": [
       "'A'"
      ]
     },
     "execution_count": 30,
     "metadata": {},
     "output_type": "execute_result"
    }
   ],
   "source": [
    "chr(65)"
   ]
  },
  {
   "cell_type": "markdown",
   "metadata": {},
   "source": [
    "## 函数ord、chr\n",
    "- ord 返回ASCII码值\n",
    "- chr 返回字符"
   ]
  },
  {
   "cell_type": "markdown",
   "metadata": {},
   "source": [
    "## EP:\n",
    "- 利用ord与chr进行简单邮箱加密"
   ]
  },
  {
   "cell_type": "code",
   "execution_count": 35,
   "metadata": {},
   "outputs": [
    {
     "name": "stdout",
     "output_type": "stream",
     "text": [
      "6\n",
      "1\n",
      "7\n",
      "8\n",
      "3\n",
      "6\n",
      "7\n",
      ":\n",
      "1\n",
      "A\n",
      "r\n",
      "r\n",
      "/\n",
      "d\n",
      "p\n",
      "n\n"
     ]
    }
   ],
   "source": [
    "email='506725690@qq.com'\n",
    "for i in email:\n",
    "    if i==5:\n",
    "        test_test=\"戴\"\n",
    "    else:\n",
    "        test=ord(i)+1\n",
    "        test_test=chr(test)\n",
    "    print(test_test)\n",
    "    "
   ]
  },
  {
   "cell_type": "code",
   "execution_count": 37,
   "metadata": {
    "scrolled": true
   },
   "outputs": [
    {
     "name": "stdout",
     "output_type": "stream",
     "text": [
      "MD5加密前为 ：this is a md5 test.\n",
      "MD5加密后为 ：174b086fc6358db6154bd951a8947837\n"
     ]
    }
   ],
   "source": [
    "# 由于MD5模块在python3中被移除\n",
    "# 在python3中使用hashlib模块进行md5操作\n",
    "\n",
    "import hashlib\n",
    "\n",
    "# 待加密信息\n",
    "str = 'this is a md5 test.'\n",
    "\n",
    "# 创建md5对象\n",
    "hl = hashlib.md5()\n",
    "\n",
    "# Tips\n",
    "# 此处必须声明encode\n",
    "# 若写法为hl.update(str)  报错为： Unicode-objects must be encoded before hashing\n",
    "hl.update(str.encode(encoding='utf-8'))\n",
    "\n",
    "print('MD5加密前为 ：' + str)\n",
    "print('MD5加密后为 ：' + hl.hexdigest())"
   ]
  },
  {
   "cell_type": "markdown",
   "metadata": {},
   "source": [
    "# 转义序列 \\\n",
    "- a = \"He said,\"Johon's program is easy to read\"\"\n",
    "- 转掉它原来的意思\n",
    "- 一般情况下只有当语句与默认的语句相撞的时候，就需要转义"
   ]
  },
  {
   "cell_type": "code",
   "execution_count": 41,
   "metadata": {},
   "outputs": [
    {
     "name": "stdout",
     "output_type": "stream",
     "text": [
      "he said,\"Johon's program is easy to read\n"
     ]
    }
   ],
   "source": [
    "a=\"he said,\\\"Johon's program is easy to read\"\n",
    "print (a)"
   ]
  },
  {
   "cell_type": "markdown",
   "metadata": {},
   "source": [
    "## 高级print\n",
    "- 参数 end： 以什么方式结束打印\n",
    "- 默认换行打印  "
   ]
  },
  {
   "cell_type": "code",
   "execution_count": 44,
   "metadata": {},
   "outputs": [
    {
     "name": "stdout",
     "output_type": "stream",
     "text": [
      "6178367:1Arr/dpn"
     ]
    }
   ],
   "source": [
    "email='506725690@qq.com'\n",
    "for i in email:\n",
    "    if i==5:\n",
    "        test=\"戴\"\n",
    "    else:\n",
    "        test=ord(i)+1\n",
    "        test_test=chr(test)\n",
    "    print(test_test,end='')\n"
   ]
  },
  {
   "cell_type": "markdown",
   "metadata": {},
   "source": [
    "## 函数str\n",
    "- 将类型强制转换成字符串类型\n",
    "- 其他一些以后会学到(list,set,tuple...)"
   ]
  },
  {
   "cell_type": "code",
   "execution_count": 1,
   "metadata": {},
   "outputs": [
    {
     "data": {
      "text/plain": [
       "'100'"
      ]
     },
     "execution_count": 1,
     "metadata": {},
     "output_type": "execute_result"
    }
   ],
   "source": [
    "a=100\n",
    "str(a)"
   ]
  },
  {
   "cell_type": "markdown",
   "metadata": {},
   "source": [
    "## 字符串连接操作\n",
    "- 直接使用 “+” \n",
    "- join() 函数 "
   ]
  },
  {
   "cell_type": "code",
   "execution_count": 4,
   "metadata": {},
   "outputs": [
    {
     "name": "stdout",
     "output_type": "stream",
     "text": [
      "www.baidu.com/page=0\n",
      "www.baidu.com/page=1\n",
      "www.baidu.com/page=2\n",
      "www.baidu.com/page=3\n",
      "www.baidu.com/page=4\n",
      "www.baidu.com/page=5\n",
      "www.baidu.com/page=6\n",
      "www.baidu.com/page=7\n",
      "www.baidu.com/page=8\n",
      "www.baidu.com/page=9\n",
      "www.baidu.com/page=10\n",
      "www.baidu.com/page=11\n",
      "www.baidu.com/page=12\n",
      "www.baidu.com/page=13\n",
      "www.baidu.com/page=14\n",
      "www.baidu.com/page=15\n",
      "www.baidu.com/page=16\n",
      "www.baidu.com/page=17\n",
      "www.baidu.com/page=18\n",
      "www.baidu.com/page=19\n",
      "www.baidu.com/page=20\n",
      "www.baidu.com/page=21\n",
      "www.baidu.com/page=22\n",
      "www.baidu.com/page=23\n",
      "www.baidu.com/page=24\n",
      "www.baidu.com/page=25\n",
      "www.baidu.com/page=26\n",
      "www.baidu.com/page=27\n",
      "www.baidu.com/page=28\n",
      "www.baidu.com/page=29\n",
      "www.baidu.com/page=30\n",
      "www.baidu.com/page=31\n",
      "www.baidu.com/page=32\n",
      "www.baidu.com/page=33\n",
      "www.baidu.com/page=34\n",
      "www.baidu.com/page=35\n",
      "www.baidu.com/page=36\n",
      "www.baidu.com/page=37\n",
      "www.baidu.com/page=38\n",
      "www.baidu.com/page=39\n",
      "www.baidu.com/page=40\n",
      "www.baidu.com/page=41\n",
      "www.baidu.com/page=42\n",
      "www.baidu.com/page=43\n",
      "www.baidu.com/page=44\n",
      "www.baidu.com/page=45\n",
      "www.baidu.com/page=46\n",
      "www.baidu.com/page=47\n",
      "www.baidu.com/page=48\n",
      "www.baidu.com/page=49\n",
      "www.baidu.com/page=50\n",
      "www.baidu.com/page=51\n",
      "www.baidu.com/page=52\n",
      "www.baidu.com/page=53\n",
      "www.baidu.com/page=54\n",
      "www.baidu.com/page=55\n",
      "www.baidu.com/page=56\n",
      "www.baidu.com/page=57\n",
      "www.baidu.com/page=58\n",
      "www.baidu.com/page=59\n",
      "www.baidu.com/page=60\n",
      "www.baidu.com/page=61\n",
      "www.baidu.com/page=62\n",
      "www.baidu.com/page=63\n",
      "www.baidu.com/page=64\n",
      "www.baidu.com/page=65\n",
      "www.baidu.com/page=66\n",
      "www.baidu.com/page=67\n",
      "www.baidu.com/page=68\n",
      "www.baidu.com/page=69\n",
      "www.baidu.com/page=70\n",
      "www.baidu.com/page=71\n",
      "www.baidu.com/page=72\n",
      "www.baidu.com/page=73\n",
      "www.baidu.com/page=74\n",
      "www.baidu.com/page=75\n",
      "www.baidu.com/page=76\n",
      "www.baidu.com/page=77\n",
      "www.baidu.com/page=78\n",
      "www.baidu.com/page=79\n",
      "www.baidu.com/page=80\n",
      "www.baidu.com/page=81\n",
      "www.baidu.com/page=82\n",
      "www.baidu.com/page=83\n",
      "www.baidu.com/page=84\n",
      "www.baidu.com/page=85\n",
      "www.baidu.com/page=86\n",
      "www.baidu.com/page=87\n",
      "www.baidu.com/page=88\n",
      "www.baidu.com/page=89\n",
      "www.baidu.com/page=90\n",
      "www.baidu.com/page=91\n",
      "www.baidu.com/page=92\n",
      "www.baidu.com/page=93\n",
      "www.baidu.com/page=94\n",
      "www.baidu.com/page=95\n",
      "www.baidu.com/page=96\n",
      "www.baidu.com/page=97\n",
      "www.baidu.com/page=98\n",
      "www.baidu.com/page=99\n"
     ]
    }
   ],
   "source": [
    "a1=\"www.baidu.com/page=\"\n",
    "for i in range(100):\n",
    "    a2=a1+str(i)\n",
    "    print(a2)"
   ]
  },
  {
   "cell_type": "code",
   "execution_count": 3,
   "metadata": {},
   "outputs": [
    {
     "data": {
      "text/plain": [
       "'ac'"
      ]
     },
     "execution_count": 3,
     "metadata": {},
     "output_type": "execute_result"
    }
   ],
   "source": [
    "''.join(('a','c'))\n",
    "\n"
   ]
  },
  {
   "cell_type": "code",
   "execution_count": 5,
   "metadata": {},
   "outputs": [
    {
     "name": "stdout",
     "output_type": "stream",
     "text": [
      "Wall time: 0 ns\n"
     ]
    },
    {
     "data": {
      "text/plain": [
       "'a^c'"
      ]
     },
     "execution_count": 5,
     "metadata": {},
     "output_type": "execute_result"
    }
   ],
   "source": [
    "%time '^'.join(('a','c'))\n"
   ]
  },
  {
   "cell_type": "markdown",
   "metadata": {},
   "source": [
    "## EP：\n",
    "- 将 “Welcome” “to” \"Python\" 拼接\n",
    "- 将int型 100 与 “joker is a bad man” 拼接\n",
    "- 从控制台读取字符串\n",
    "> 输入一个名字返回夸奖此人是一个帅哥"
   ]
  },
  {
   "cell_type": "code",
   "execution_count": 8,
   "metadata": {},
   "outputs": [
    {
     "data": {
      "text/plain": [
       "'Welcome to Python'"
      ]
     },
     "execution_count": 8,
     "metadata": {},
     "output_type": "execute_result"
    }
   ],
   "source": [
    "' '.join(('Welcome','to','Python'))"
   ]
  },
  {
   "cell_type": "code",
   "execution_count": 12,
   "metadata": {},
   "outputs": [
    {
     "data": {
      "text/plain": [
       "'100 joker is a bad man'"
      ]
     },
     "execution_count": 12,
     "metadata": {},
     "output_type": "execute_result"
    }
   ],
   "source": [
    "a=100\n",
    "b=str(a)\n",
    "' '.join((b,'joker is a bad man'))"
   ]
  },
  {
   "cell_type": "code",
   "execution_count": 30,
   "metadata": {},
   "outputs": [
    {
     "name": "stdout",
     "output_type": "stream",
     "text": [
      "请输入一个人的名字：ff\n"
     ]
    },
    {
     "data": {
      "text/plain": [
       "'ff 是一个帅哥'"
      ]
     },
     "execution_count": 30,
     "metadata": {},
     "output_type": "execute_result"
    }
   ],
   "source": [
    "ww=input('请输入一个人的名字：')\n",
    "' '.join((ww,'是一个帅哥'))"
   ]
  },
  {
   "cell_type": "markdown",
   "metadata": {},
   "source": [
    "## 实例研究：最小数量硬币\n",
    "- 开发一个程序，让用户输入总金额，这是一个用美元和美分表示的浮点值，返回一个由美元、两角五分的硬币、一角的硬币、五分硬币、以及美分个数\n",
    "<img src=\"../Photo/22.png\"></img>"
   ]
  },
  {
   "cell_type": "code",
   "execution_count": 30,
   "metadata": {},
   "outputs": [
    {
     "name": "stdout",
     "output_type": "stream",
     "text": [
      "Ennter an amount,for example 11.56:11.56\n",
      "1156\n",
      "11 2 0 1 1\n"
     ]
    }
   ],
   "source": [
    "amount = eval(input('Ennter an amount,for example 11.56:'))\n",
    "remainingAmount = int(amount * 100)\n",
    "print(remainingAmount)\n",
    "numberOfOneDollars = remainingAmount //100\n",
    "remainingAmount = remainingAmount % 100\n",
    "numberOfQuarters = remainingAmount // 25\n",
    "remainingAmount = remainingAmount % 25\n",
    "numberOfDimes = remainingAmount // 10\n",
    "remainingAmount = remainingAmount % 10\n",
    "numberOfNickls = remainingAmount // 5\n",
    "remainingAmount = remainingAmount % 5\n",
    "numberOfPenies = remainingAmount\n",
    "print(numberOfOneDollars,numberOfQuarters,numberOfDimes,numberOfNickls,numberOfPenies)"
   ]
  },
  {
   "cell_type": "markdown",
   "metadata": {},
   "source": [
    "- Python弱项，对于浮点型的处理并不是很好，但是处理数据的时候使用的是Numpy类型\n",
    "<img src=\"../Photo/23.png\"></img>"
   ]
  },
  {
   "cell_type": "code",
   "execution_count": 1,
   "metadata": {},
   "outputs": [
    {
     "name": "stdout",
     "output_type": "stream",
     "text": [
      "Ennter an amount,for example 11.56:1003\n",
      "1003\n",
      "10 0 0 0 3\n"
     ]
    }
   ],
   "source": [
    "remainingAmount = eval(input('Ennter an amount,for example 11.56:'))\n",
    "print(remainingAmount)\n",
    "numberOfOneDollars = remainingAmount //100\n",
    "remainingAmount = remainingAmount % 100\n",
    "numberOfQuarters = remainingAmount // 25\n",
    "remainingAmount = remainingAmount % 25\n",
    "numberOfDimes = remainingAmount // 10\n",
    "remainingAmount = remainingAmount % 10\n",
    "numberOfNickls = remainingAmount // 5\n",
    "remainingAmount = remainingAmount % 5\n",
    "numberOfPenies = remainingAmount\n",
    "print(numberOfOneDollars,numberOfQuarters,numberOfDimes,numberOfNickls,numberOfPenies)"
   ]
  },
  {
   "cell_type": "markdown",
   "metadata": {},
   "source": [
    "## id与type\n",
    "- id 查看内存地址，在判断语句中将会使用\n",
    "- type 查看元素类型"
   ]
  },
  {
   "cell_type": "code",
   "execution_count": 34,
   "metadata": {},
   "outputs": [
    {
     "data": {
      "text/plain": [
       "1482586688"
      ]
     },
     "execution_count": 34,
     "metadata": {},
     "output_type": "execute_result"
    }
   ],
   "source": [
    "a=100\n",
    "id(a)"
   ]
  },
  {
   "cell_type": "code",
   "execution_count": 35,
   "metadata": {},
   "outputs": [
    {
     "data": {
      "text/plain": [
       "1482092704"
      ]
     },
     "execution_count": 35,
     "metadata": {},
     "output_type": "execute_result"
    }
   ],
   "source": [
    "id(True)"
   ]
  },
  {
   "cell_type": "code",
   "execution_count": 39,
   "metadata": {},
   "outputs": [
    {
     "name": "stdout",
     "output_type": "stream",
     "text": [
      "1482092704 1482092736\n"
     ]
    },
    {
     "data": {
      "text/plain": [
       "False"
      ]
     },
     "execution_count": 39,
     "metadata": {},
     "output_type": "execute_result"
    }
   ],
   "source": [
    "a= True\n",
    "b=False\n",
    "print(id(a),id(b))\n",
    "a is b"
   ]
  },
  {
   "cell_type": "markdown",
   "metadata": {},
   "source": [
    "## 其他格式化语句见书"
   ]
  },
  {
   "cell_type": "markdown",
   "metadata": {},
   "source": [
    "# Homework\n",
    "- 1\n",
    "<img src=\"../Photo/24.png\"><img>\n",
    "<img src=\"../Photo/25.png\"><img>"
   ]
  },
  {
   "cell_type": "code",
   "execution_count": 33,
   "metadata": {},
   "outputs": [
    {
     "name": "stdout",
     "output_type": "stream",
     "text": [
      "enter the length from the center to vertex:5.5\n",
      "the area of the pentogon is 71.923649044821\n"
     ]
    }
   ],
   "source": [
    "r=eval(input(\"enter the length from the center to vertex:\"))\n",
    "import math\n",
    "s=2*r*math.sin(math.pi/5)\n",
    "Area=5*s*s/(4*math.tan(math.pi/5))\n",
    "print('the area of the pentogon is',Area)"
   ]
  },
  {
   "cell_type": "markdown",
   "metadata": {},
   "source": [
    "- 2\n",
    "<img src=\"../Photo/26.png\"><img>"
   ]
  },
  {
   "cell_type": "code",
   "execution_count": 42,
   "metadata": {},
   "outputs": [
    {
     "name": "stdout",
     "output_type": "stream",
     "text": [
      "enter point 1 latitude:39.55\n",
      "enter point 1 longitude:-116.25\n",
      "enter point 2 latitude:41.5\n",
      "enter point 2 longtitude:87.37\n",
      "the distance between the points is 10691.79183231593\n"
     ]
    }
   ],
   "source": [
    "x1=eval(input(\"enter point 1 latitude:\"))\n",
    "y1=eval(input(\"enter point 1 longitude:\"))\n",
    "x2=eval(input(\"enter point 2 latitude:\"))\n",
    "y2=eval(input(\"enter point 2 longtitude:\"))\n",
    "import math\n",
    "x11=math.radians(x1)\n",
    "y11=math.radians(y1)\n",
    "x22=math.radians(x2)\n",
    "y22=math.radians(y2)\n",
    "\n",
    "d=6371.01*math.acos((math.sin(x11)*math.sin(x22)+math.cos(x11)*math.cos(x22)*math.cos(y11-y22)))\n",
    "\n",
    "\n",
    "print('the distance between the points is',d)"
   ]
  },
  {
   "cell_type": "markdown",
   "metadata": {},
   "source": [
    "- 3\n",
    "<img src=\"../Photo/27.png\"><img>"
   ]
  },
  {
   "cell_type": "code",
   "execution_count": 43,
   "metadata": {},
   "outputs": [
    {
     "name": "stdout",
     "output_type": "stream",
     "text": [
      "enter the side:5.5\n",
      "the area of the pentogon is 52.044441367816255\n"
     ]
    }
   ],
   "source": [
    "s=eval(input(\"enter the side:\"))\n",
    "import math\n",
    "Area=5*s*s/(4*math.tan(math.pi/5))\n",
    "print('the area of the pentogon is',Area)"
   ]
  },
  {
   "cell_type": "markdown",
   "metadata": {},
   "source": [
    "- 4\n",
    "<img src=\"../Photo/28.png\"><img>"
   ]
  },
  {
   "cell_type": "code",
   "execution_count": 44,
   "metadata": {},
   "outputs": [
    {
     "name": "stdout",
     "output_type": "stream",
     "text": [
      "enter the side:6.5\n",
      "enter the number:5\n",
      "the area of the pentogon is 72.69017017488386\n"
     ]
    }
   ],
   "source": [
    "s=eval(input(\"enter the side:\"))\n",
    "n=eval(input(\"enter the number:\"))\n",
    "import math\n",
    "Area=n*s*s/(4*math.tan(math.pi/5))\n",
    "print('the area of the pentogon is',Area)"
   ]
  },
  {
   "cell_type": "markdown",
   "metadata": {},
   "source": [
    "- 5\n",
    "<img src=\"../Photo/29.png\"><img>\n",
    "<img src=\"../Photo/30.png\"><img>"
   ]
  },
  {
   "cell_type": "code",
   "execution_count": 46,
   "metadata": {},
   "outputs": [
    {
     "name": "stdout",
     "output_type": "stream",
     "text": [
      "enter an ASCII code:69\n",
      "the character E\n"
     ]
    }
   ],
   "source": [
    "code=eval(input(\"enter an ASCII code:\"))\n",
    "character=chr(code)\n",
    "print('the character',character)"
   ]
  },
  {
   "cell_type": "markdown",
   "metadata": {},
   "source": [
    "- 6\n",
    "<img src=\"../Photo/31.png\"><img>"
   ]
  },
  {
   "cell_type": "code",
   "execution_count": 59,
   "metadata": {},
   "outputs": [
    {
     "name": "stdout",
     "output_type": "stream",
     "text": [
      "enter employee's name:lk;l;\n",
      "enter number of hours:10\n",
      "enter hourly pay rate:9.75\n",
      "enter federal tax rate:0.20\n",
      "enter state tax rate:0.09\n",
      "employee name： lk;l;\n",
      "hours worked： 10.0\n",
      "pay rate： $9.75\n",
      "cros pay： $97.5\n",
      "deduction：\n",
      "fe(20.0%): $19.5\n",
      "state(9.0%): $8.78\n",
      "total: $28.28\n",
      "netpay： $69.22\n"
     ]
    }
   ],
   "source": [
    "a=input(\"enter employee's name:\")\n",
    "b=eval(input(\"enter number of hours:\"))\n",
    "c=eval(input(\"enter hourly pay rate:\"))\n",
    "d=eval(input(\"enter federal tax rate:\"))\n",
    "e=eval(input(\"enter state tax rate:\"))\n",
    "c1=str(c)\n",
    "import math\n",
    "b1=math.fabs(b)\n",
    "b2=c*b1\n",
    "c2=str(b2)\n",
    "d1=b2*0.20\n",
    "d2=round(d1,1)\n",
    "d3=str(d2)\n",
    "e1=c*0.9\n",
    "e2=round(e1,2)\n",
    "e3=str(e2)\n",
    "f=d2+e2\n",
    "f1=str(f)\n",
    "h=b2-f\n",
    "h1=str(h)\n",
    "print('employee name：',a)\n",
    "print('hours worked：',b1)\n",
    "print('pay rate：','$'+c1)\n",
    "print('cros pay：','$'+c2)\n",
    "print('deduction：')\n",
    "print( 'fe(20.0%):','$'+d3)\n",
    "print ( 'state(9.0%):','$'+e3)\n",
    "print  (     'total:','$'+f1)\n",
    "print   (   'netpay：','$'+h1)"
   ]
  },
  {
   "cell_type": "markdown",
   "metadata": {},
   "source": [
    "- 7\n",
    "<img src=\"../Photo/32.png\"><img>"
   ]
  },
  {
   "cell_type": "code",
   "execution_count": 62,
   "metadata": {},
   "outputs": [
    {
     "name": "stdout",
     "output_type": "stream",
     "text": [
      "enter an integer:3125\n",
      "5213\n"
     ]
    }
   ],
   "source": [
    "integer=eval(input(\"enter an integer:\"))\n",
    "i4=integer//1000\n",
    "i44=str(i4)\n",
    "i3=integer//100%10\n",
    "i33=str(i3)\n",
    "i2=integer%100//10\n",
    "i22=str(i2)\n",
    "i1=integer%10\n",
    "i11=str(i1)\n",
    "print(i11+i22+i33+i44)"
   ]
  },
  {
   "cell_type": "markdown",
   "metadata": {},
   "source": [
    "- 8 进阶：\n",
    "> 加密一串文本，并将解密后的文件写入本地保存"
   ]
  },
  {
   "cell_type": "code",
   "execution_count": 81,
   "metadata": {},
   "outputs": [
    {
     "name": "stdout",
     "output_type": "stream",
     "text": [
      "Qzuipo典朊丱寍咍弻夨皅应〃宄帹袬昶秱主胷氵诮訁－\u000b",
      "胾夠抋甩具仗诮訁刷佝皅吅秎樢坘）尥具昰D0D,,＊徉轼板圱聕绔圩丁赸〃\u000b",
      "帹观皅丁秎底甩惆彣昰－侀甩Qzuipo忬造甠我稌庐皅厠垌）朊旷甛致昰稌庐皅朁绉畍靣＊－\u000b",
      "焷吏寺具丮朊牺刬覂汃皅郩切－甩曵吉逃皅诮訁攺冚－\u000b",
      "毕妃4E渹成丮皅囿彣渳柔樢坘－怨胾覂汃牺刬髙－尲台仦甩D0D,,野冚－耍吏専裆主Qzuipo台仦谄甩皅扪屖籼应〃\u000b",
      "霁覂泩愐皅昰圩悩侀甩扪屖籼应旷台胾霁覂耄虒年叱闯颙－柑亜台胾与揑侜跩年叱皅実玱〃\n",
      "----------\n",
      "Python具有丰富和强大的库。它常被昵称为胶水语言，\n",
      "能够把用其他语言制作的各种模块（尤其是C/C++）很轻松地联结在一起。\n",
      "常见的一种应用情形是，使用Python快速生成程序的原型（有时甚至是程序的最终界面），\n",
      "然后对其中有特别要求的部分，用更合适的语言改写，\n",
      "比如3D游戏中的图形渲染模块，性能要求特别高，就可以用C/C++重写，而后封装为Python可以调用的扩展类库。\n",
      "需要注意的是在您使用扩展类库时可能需要考虑平台问题，某些可能不提供跨平台的实现。"
     ]
    }
   ],
   "source": [
    "wenjian='''Python具有丰富和强大的库。它常被昵称为胶水语言，\n",
    "能够把用其他语言制作的各种模块（尤其是C/C++）很轻松地联结在一起。\n",
    "常见的一种应用情形是，使用Python快速生成程序的原型（有时甚至是程序的最终界面），\n",
    "然后对其中有特别要求的部分，用更合适的语言改写，\n",
    "比如3D游戏中的图形渲染模块，性能要求特别高，就可以用C/C++重写，而后封装为Python可以调用的扩展类库。\n",
    "需要注意的是在您使用扩展类库时可能需要考虑平台问题，某些可能不提供跨平台的实现。'''\n",
    "test_test=''\n",
    "jiemi_t=''\n",
    "for i in wenjian:\n",
    "        test=ord(i)+1\n",
    "        test_test=test_test+chr(test)\n",
    "print(test_test,end='')\n",
    "print('\\n----------')\n",
    "for i in test_test:\n",
    "        jiemi=ord(i)-1\n",
    "        jiemi_t=jiemi_t+chr(jiemi)\n",
    "print(jiemi_t,end='')"
   ]
  }
 ],
 "metadata": {
  "kernelspec": {
   "display_name": "Python 3",
   "language": "python",
   "name": "python3"
  },
  "language_info": {
   "codemirror_mode": {
    "name": "ipython",
    "version": 3
   },
   "file_extension": ".py",
   "mimetype": "text/x-python",
   "name": "python",
   "nbconvert_exporter": "python",
   "pygments_lexer": "ipython3",
   "version": "3.6.4"
  }
 },
 "nbformat": 4,
 "nbformat_minor": 2
}
