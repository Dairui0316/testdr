{
 "cells": [
  {
   "cell_type": "markdown",
   "metadata": {},
   "source": [
    "# 函数\n",
    "\n",
    "- 函数可以用来定义可重复代码，组织和简化\n",
    "- 一般来说一个函数在实际开发中为一个小功能\n",
    "- 一个类为一个大功能\n",
    "- 同样函数的长度不要超过一屏"
   ]
  },
  {
   "cell_type": "code",
   "execution_count": 3,
   "metadata": {},
   "outputs": [],
   "source": [
    "def joker():\n",
    "    '''这是一个测试函数'''\n",
    "    print('joker hahah')"
   ]
  },
  {
   "cell_type": "code",
   "execution_count": 4,
   "metadata": {},
   "outputs": [
    {
     "name": "stdout",
     "output_type": "stream",
     "text": [
      "joker hahah\n"
     ]
    }
   ],
   "source": [
    "joker()"
   ]
  },
  {
   "cell_type": "code",
   "execution_count": 17,
   "metadata": {},
   "outputs": [],
   "source": [
    "def lifang():\n",
    "    '''这是一个返回整数立方的函数'''\n",
    "    s=int(input('请输入一个数值'))\n",
    "    return  s**3,s**2  #多数函数共同工作"
   ]
  },
  {
   "cell_type": "code",
   "execution_count": 18,
   "metadata": {},
   "outputs": [
    {
     "name": "stdout",
     "output_type": "stream",
     "text": [
      "请输入一个数值2\n",
      "8 4\n"
     ]
    }
   ],
   "source": [
    "res,res1=lifang()\n",
    "print(res,res1)"
   ]
  },
  {
   "cell_type": "markdown",
   "metadata": {},
   "source": [
    "## 定义一个函数\n",
    "\n",
    "def function_name(list of parameters):\n",
    "    \n",
    "    do something\n",
    "![](../Photo/69.png)\n",
    "- 以前使用的random 或者range 或者print.. 其实都是函数或者类"
   ]
  },
  {
   "cell_type": "markdown",
   "metadata": {},
   "source": [
    "## 调用一个函数\n",
    "- functionName()\n",
    "- \"()\" 就代表调用"
   ]
  },
  {
   "cell_type": "code",
   "execution_count": 22,
   "metadata": {},
   "outputs": [],
   "source": [
    "def sr():\n",
    "    a=eval(input('请输入数字'))\n",
    "    return a**2"
   ]
  },
  {
   "cell_type": "code",
   "execution_count": 24,
   "metadata": {},
   "outputs": [
    {
     "name": "stdout",
     "output_type": "stream",
     "text": [
      "请输入数字2\n",
      "4\n"
     ]
    }
   ],
   "source": [
    "aa=sr()\n",
    "print (aa)"
   ]
  },
  {
   "cell_type": "code",
   "execution_count": 31,
   "metadata": {},
   "outputs": [],
   "source": [
    "def max1():\n",
    "    \n",
    "    n1= int(input('please enter the firest number:'))\n",
    "    n2 = int(input('please enter the second number:'))\n",
    "    n3 = int(input('please enter the third number:'))\n",
    "    max_num = 0\n",
    "\n",
    "    if n1 > n2:\n",
    "        max_num = n1\n",
    "        if n1 > n3:\n",
    "            max_num = n1\n",
    "        else:\n",
    "            max_num = n3\n",
    "    else:\n",
    "        max_num = n2\n",
    "        if n2 > n3:\n",
    "            max_num = n2\n",
    "        else:\n",
    "            max_num = n3\n",
    "    print('the max_num is：%d'%max_num)\n"
   ]
  },
  {
   "cell_type": "code",
   "execution_count": 32,
   "metadata": {},
   "outputs": [
    {
     "name": "stdout",
     "output_type": "stream",
     "text": [
      "please enter the firest number:1\n",
      "please enter the second number:2\n",
      "please enter the third number:3\n",
      "the max_num is：3\n"
     ]
    }
   ],
   "source": [
    "max1()"
   ]
  },
  {
   "cell_type": "code",
   "execution_count": 33,
   "metadata": {},
   "outputs": [],
   "source": [
    "def test1():\n",
    "    test2()\n",
    "def test1():\n",
    "    print('hahah')"
   ]
  },
  {
   "cell_type": "code",
   "execution_count": 35,
   "metadata": {},
   "outputs": [
    {
     "name": "stdout",
     "output_type": "stream",
     "text": [
      "hahah\n"
     ]
    }
   ],
   "source": [
    "test1()"
   ]
  },
  {
   "cell_type": "markdown",
   "metadata": {},
   "source": [
    "![](../Photo/70.png)"
   ]
  },
  {
   "cell_type": "markdown",
   "metadata": {},
   "source": [
    "## 带返回值和不带返回值的函数\n",
    "- return 返回的内容\n",
    "- return 返回多个值\n",
    "- 一般情况下，在多个函数协同完成一个功能的时候，那么将会有返回值"
   ]
  },
  {
   "cell_type": "markdown",
   "metadata": {},
   "source": [
    "![](../Photo/71.png)\n",
    "\n",
    "- 当然也可以自定义返回None"
   ]
  },
  {
   "cell_type": "markdown",
   "metadata": {},
   "source": [
    "## EP：\n",
    "![](../Photo/72.png)"
   ]
  },
  {
   "cell_type": "code",
   "execution_count": 33,
   "metadata": {},
   "outputs": [],
   "source": [
    "def ous():\n",
    "    for i in range(0,10,2):\n",
    "        print (i)\n",
    "        jis(i)\n",
    "def jis(i):\n",
    "    print (i+1)"
   ]
  },
  {
   "cell_type": "code",
   "execution_count": 32,
   "metadata": {},
   "outputs": [
    {
     "name": "stdout",
     "output_type": "stream",
     "text": [
      "0\n",
      "1\n",
      "2\n",
      "3\n",
      "4\n",
      "5\n",
      "6\n",
      "7\n",
      "8\n",
      "9\n",
      "10\n",
      "11\n"
     ]
    }
   ],
   "source": [
    "ous()"
   ]
  },
  {
   "cell_type": "markdown",
   "metadata": {},
   "source": [
    "## 类型和关键字参数\n",
    "- 普通参数\n",
    "- 多个参数\n",
    "- 默认值参数\n",
    "- 不定长参数"
   ]
  },
  {
   "cell_type": "code",
   "execution_count": 48,
   "metadata": {},
   "outputs": [],
   "source": [
    "account=None\n",
    "password=None\n",
    "def regist(p1,p2):\n",
    "    global account,password  \n",
    "\n",
    "    account=p1\n",
    "    password=p2   \n",
    "    return account,password\n",
    "def login(p1,p2):\n",
    "  \n",
    "    if  account==p1 and password==p2:\n",
    "        print('t')\n",
    "    else:\n",
    "        print('f')\n",
    "def exit():\n",
    "    account=None\n",
    "    password=None"
   ]
  },
  {
   "cell_type": "code",
   "execution_count": 52,
   "metadata": {},
   "outputs": [
    {
     "name": "stdout",
     "output_type": "stream",
     "text": [
      "t\n"
     ]
    }
   ],
   "source": [
    "regist('laoshi','nihao')\n",
    "login('laoshi','nihao')\n",
    "exit()"
   ]
  },
  {
   "cell_type": "code",
   "execution_count": 68,
   "metadata": {},
   "outputs": [
    {
     "name": "stdout",
     "output_type": "stream",
     "text": [
      "输入用户dfaf\n",
      "输入密码dff\n",
      "t\n"
     ]
    }
   ],
   "source": [
    "login('dfaf','dff')"
   ]
  },
  {
   "cell_type": "markdown",
   "metadata": {},
   "source": [
    "## 普通参数"
   ]
  },
  {
   "cell_type": "markdown",
   "metadata": {},
   "source": [
    "## 多个参数"
   ]
  },
  {
   "cell_type": "code",
   "execution_count": 4,
   "metadata": {},
   "outputs": [],
   "source": [
    "def test(a,b,c,d,e=100):  #默认参数只能放在最后\n",
    "    print(a,b,c,d,e)\n",
    "    "
   ]
  },
  {
   "cell_type": "code",
   "execution_count": 7,
   "metadata": {},
   "outputs": [
    {
     "name": "stdout",
     "output_type": "stream",
     "text": [
      "1 2 3 4 100\n",
      "1 2 3 4 5\n"
     ]
    }
   ],
   "source": [
    "test(1,2,3,4)\n",
    "test(1,2,3,4,5)"
   ]
  },
  {
   "cell_type": "markdown",
   "metadata": {},
   "source": [
    "## 默认值参数"
   ]
  },
  {
   "cell_type": "code",
   "execution_count": null,
   "metadata": {},
   "outputs": [],
   "source": [
    "def jjjj():\n",
    "    for i in range(1,10):\n",
    "        if i%2==0:\n",
    "            print(i**2)\n",
    "        elif i%2!=0:\n",
    "            print(i**3)"
   ]
  },
  {
   "cell_type": "code",
   "execution_count": 10,
   "metadata": {},
   "outputs": [
    {
     "name": "stdout",
     "output_type": "stream",
     "text": [
      "1\n",
      "4\n",
      "27\n",
      "16\n",
      "125\n",
      "36\n",
      "343\n",
      "64\n",
      "729\n"
     ]
    }
   ],
   "source": [
    "jjjj()"
   ]
  },
  {
   "cell_type": "markdown",
   "metadata": {},
   "source": [
    "## 不定长参数\n",
    "   *args\n",
    "    - 不定长，来多少装多少 不装也是可以的\n",
    "    -  返回的书库类型是元组\n",
    "    -  args名字是可以修改的，只是我们约定俗称的args\n",
    "   **kwargs \n",
    "     -不定长\n",
    "     - 返回数据是字典"
   ]
  },
  {
   "cell_type": "code",
   "execution_count": 22,
   "metadata": {},
   "outputs": [],
   "source": [
    "def test(*args):\n",
    "    print(args)\n",
    "    print(type(args))"
   ]
  },
  {
   "cell_type": "code",
   "execution_count": 20,
   "metadata": {},
   "outputs": [],
   "source": [
    "def test(*joker):\n",
    "    print(joker)\n",
    "    print(type(joker))"
   ]
  },
  {
   "cell_type": "code",
   "execution_count": 21,
   "metadata": {},
   "outputs": [
    {
     "name": "stdout",
     "output_type": "stream",
     "text": [
      "(1, 2, 54)\n",
      "<class 'tuple'>\n"
     ]
    }
   ],
   "source": [
    "test(1,2,54)"
   ]
  },
  {
   "cell_type": "code",
   "execution_count": 23,
   "metadata": {},
   "outputs": [],
   "source": [
    "def test2(**kwargs):\n",
    "    print(kwargs)"
   ]
  },
  {
   "cell_type": "code",
   "execution_count": 26,
   "metadata": {},
   "outputs": [
    {
     "name": "stdout",
     "output_type": "stream",
     "text": [
      "{'a': 1, 'b': 2, 'c': 3, 'd': 5}\n"
     ]
    }
   ],
   "source": [
    "test2(a=1,b=2,c=3,d=5)\n"
   ]
  },
  {
   "cell_type": "markdown",
   "metadata": {},
   "source": [
    "# 强制命名"
   ]
  },
  {
   "cell_type": "code",
   "execution_count": 11,
   "metadata": {},
   "outputs": [],
   "source": [
    "def test(a,b,*,c,d=100,e='EVC'):#*代表强制命名， 其后值必须带入\n",
    "    print(a,b,c,d,e)"
   ]
  },
  {
   "cell_type": "code",
   "execution_count": 12,
   "metadata": {},
   "outputs": [
    {
     "name": "stdout",
     "output_type": "stream",
     "text": [
      "1 2 3 4 5\n"
     ]
    }
   ],
   "source": [
    "test(1,2,c=3,d=4,e=5)"
   ]
  },
  {
   "cell_type": "code",
   "execution_count": 13,
   "metadata": {},
   "outputs": [
    {
     "name": "stdout",
     "output_type": "stream",
     "text": [
      "1 2 3 100 EVC\n"
     ]
    }
   ],
   "source": [
    "test(1,2,c=3)"
   ]
  },
  {
   "cell_type": "code",
   "execution_count": 28,
   "metadata": {},
   "outputs": [],
   "source": [
    "def res(*args,**kwargs):\n",
    "    print(args)\n",
    "    print(kwargs)\n"
   ]
  },
  {
   "cell_type": "code",
   "execution_count": 29,
   "metadata": {},
   "outputs": [
    {
     "name": "stdout",
     "output_type": "stream",
     "text": [
      "(1, 2, 3, 4)\n",
      "{'a': 1, 'b': 2}\n"
     ]
    }
   ],
   "source": [
    "res(1,2,3,4,a=1,b=2)"
   ]
  },
  {
   "cell_type": "code",
   "execution_count": 36,
   "metadata": {},
   "outputs": [
    {
     "ename": "NameError",
     "evalue": "name 'connect' is not defined",
     "output_type": "error",
     "traceback": [
      "\u001b[1;31m---------------------------------------------------------------------------\u001b[0m",
      "\u001b[1;31mNameError\u001b[0m                                 Traceback (most recent call last)",
      "\u001b[1;32m<ipython-input-36-6b48f6af1eff>\u001b[0m in \u001b[0;36m<module>\u001b[1;34m()\u001b[0m\n\u001b[0;32m      1\u001b[0m \u001b[1;32mimport\u001b[0m \u001b[0mpymysql\u001b[0m\u001b[1;33m\u001b[0m\u001b[0m\n\u001b[0;32m      2\u001b[0m \u001b[0mconnet\u001b[0m\u001b[1;33m=\u001b[0m\u001b[0mpymysql\u001b[0m\u001b[1;33m.\u001b[0m\u001b[0mconnect\u001b[0m\u001b[1;33m\u001b[0m\u001b[0m\n\u001b[1;32m----> 3\u001b[1;33m \u001b[0mprint\u001b[0m\u001b[1;33m(\u001b[0m\u001b[0mconnect\u001b[0m\u001b[1;33m)\u001b[0m\u001b[1;33m\u001b[0m\u001b[0m\n\u001b[0m",
      "\u001b[1;31mNameError\u001b[0m: name 'connect' is not defined"
     ]
    }
   ],
   "source": [
    "import pymysql\n",
    "connet=pymysql.connect\n",
    "print(connect)"
   ]
  },
  {
   "cell_type": "markdown",
   "metadata": {},
   "source": [
    "## 变量的作用域\n",
    "- 局部变量 local\n",
    "- 全局变量 global\n",
    "- globals 函数返回一个全局变量的字典，包括所有导入的变量\n",
    "- locals() 函数会以字典类型返回当前位置的全部局部变量。"
   ]
  },
  {
   "cell_type": "code",
   "execution_count": 40,
   "metadata": {},
   "outputs": [],
   "source": [
    "mist=0\n",
    "def test4():\n",
    "    global mist\n",
    "    \n",
    "    mist+=100\n",
    "    print(mist)\n"
   ]
  },
  {
   "cell_type": "code",
   "execution_count": 43,
   "metadata": {},
   "outputs": [
    {
     "name": "stdout",
     "output_type": "stream",
     "text": [
      "200\n"
     ]
    }
   ],
   "source": [
    "test4()\n",
    "mist2=[]\n",
    "def test5():\n",
    "    mist2.append(100)\n",
    "    print(mist2)"
   ]
  },
  {
   "cell_type": "code",
   "execution_count": 44,
   "metadata": {},
   "outputs": [
    {
     "name": "stdout",
     "output_type": "stream",
     "text": [
      "[100]\n"
     ]
    }
   ],
   "source": [
    "test5()"
   ]
  },
  {
   "cell_type": "code",
   "execution_count": 46,
   "metadata": {},
   "outputs": [
    {
     "data": {
      "text/plain": [
       "{'In': ['',\n",
       "  'def test(a,b,c,d,e):\\n    print(a,b,c,d,e)',\n",
       "  'test(1,2,3.4,5)',\n",
       "  'test(1,2,3,4,5)',\n",
       "  'def test(a,b,c,d,e=100):\\n    print(a,b,c,d,e)\\n    ',\n",
       "  'test(1,2,3,4,5)',\n",
       "  'test(1,2,3,4)',\n",
       "  'test(1,2,3,4)\\ntest(1,2,3,4,5)',\n",
       "  'def jjjj():\\n    for i in range(1,10):\\n        if i%2==0:\\n            print(i**2)\\n        elif i%2!=0:\\n            print(i**3)',\n",
       "  'jjjj(1)',\n",
       "  'jjjj()',\n",
       "  \"def test(a,b,*,c,d=100,e='EVC'):\\n    print(a,b,c,d,e)\",\n",
       "  'test(1,2,c=3,d=4,e=5)',\n",
       "  'test(1,2,c=3)',\n",
       "  'def test(*args):\\n    print(args)',\n",
       "  'test(1,2,3./,6,5./6,6,6/6.6/,6,6,)',\n",
       "  'test(1,2)',\n",
       "  'def test(*args):\\n    print(args)\\n    print(type(args))',\n",
       "  'test(1,2)',\n",
       "  'def test(*joker):\\n    print(joker)\\n    print(type()joker)',\n",
       "  'def test(*joker):\\n    print(joker)\\n    print(type(joker))',\n",
       "  'test(1,2,54)',\n",
       "  'def test(*args):\\n    print(args)\\n    print(type(args))',\n",
       "  'def test2(**kwargs):\\n    print(kwargs)',\n",
       "  'test2(a=1,b=2,c=3',\n",
       "  'test2(a=1,b=2,c=3)',\n",
       "  'test2(a=1,b=2,c=3,d=5)',\n",
       "  'def res(**args,**kwargs):\\n    print(args)\\n    print(kwargs)',\n",
       "  'def res(*args,**kwargs):\\n    print(args)\\n    print(kwargs)',\n",
       "  'res(1,2,3,4,a=1,b=2)',\n",
       "  'import pymysql\\nconnet=pymysql.connect(**Config)\\nprint(connect)',\n",
       "  'import pymysql\\nconnet=pymysql.connect(**%config)\\nprint(connect)',\n",
       "  'import pymysql\\nconnet=pymysql.connect(**config)\\nprint(connect)',\n",
       "  'import pymysql\\nconnet=pymysql.connect(**ConnectionResetError)\\nprint(connect)',\n",
       "  \"import pymysql\\nconnet=pymysql.connect(host='127.0.0.1')\\nprint(connect)\",\n",
       "  \"import pymysql\\nconnet=pymysql.connect(host='127.0.0.1',user='root')\\nprint(connect)\",\n",
       "  'import pymysql\\nconnet=pymysql.connect\\nprint(connect)',\n",
       "  'mist=0\\ndef test4():\\n    mist+=100\\n    print(mist)\\ntest4()',\n",
       "  'mist=0\\ndef test4():\\n    mist+=100\\n    print(mist)',\n",
       "  'test4()',\n",
       "  'mist=0\\ndef test4():\\n    global mist\\n    \\n    mist+=100\\n    print(mist)',\n",
       "  'test4()',\n",
       "  'test4()\\nmist2=[]\\ndef test5():\\n    mist2.append(100)\\n    print（mist2）',\n",
       "  'test4()\\nmist2=[]\\ndef test5():\\n    mist2.append(100)\\n    print(mist2)',\n",
       "  'test5()',\n",
       "  'global()',\n",
       "  'globals()'],\n",
       " 'Out': {},\n",
       " '_': '',\n",
       " '__': '',\n",
       " '___': '',\n",
       " '__builtin__': <module 'builtins' (built-in)>,\n",
       " '__builtins__': <module 'builtins' (built-in)>,\n",
       " '__doc__': 'Automatically created module for IPython interactive environment',\n",
       " '__loader__': None,\n",
       " '__name__': '__main__',\n",
       " '__package__': None,\n",
       " '__spec__': None,\n",
       " '_dh': ['C:\\\\Users\\\\Administrator\\\\Desktop\\\\codedr\\\\doc_all\\\\Teacher\\\\Python基础'],\n",
       " '_i': 'global()',\n",
       " '_i1': 'def test(a,b,c,d,e):\\n    print(a,b,c,d,e)',\n",
       " '_i10': 'jjjj()',\n",
       " '_i11': \"def test(a,b,*,c,d=100,e='EVC'):\\n    print(a,b,c,d,e)\",\n",
       " '_i12': 'test(1,2,c=3,d=4,e=5)',\n",
       " '_i13': 'test(1,2,c=3)',\n",
       " '_i14': 'def test(*args):\\n    print(args)',\n",
       " '_i15': 'test(1,2,3./,6,5./6,6,6/6.6/,6,6,)',\n",
       " '_i16': 'test(1,2)',\n",
       " '_i17': 'def test(*args):\\n    print(args)\\n    print(type(args))',\n",
       " '_i18': 'test(1,2)',\n",
       " '_i19': 'def test(*joker):\\n    print(joker)\\n    print(type()joker)',\n",
       " '_i2': 'test(1,2,3.4,5)',\n",
       " '_i20': 'def test(*joker):\\n    print(joker)\\n    print(type(joker))',\n",
       " '_i21': 'test(1,2,54)',\n",
       " '_i22': 'def test(*args):\\n    print(args)\\n    print(type(args))',\n",
       " '_i23': 'def test2(**kwargs):\\n    print(kwargs)',\n",
       " '_i24': 'test2(a=1,b=2,c=3',\n",
       " '_i25': 'test2(a=1,b=2,c=3)',\n",
       " '_i26': 'test2(a=1,b=2,c=3,d=5)',\n",
       " '_i27': 'def res(**args,**kwargs):\\n    print(args)\\n    print(kwargs)',\n",
       " '_i28': 'def res(*args,**kwargs):\\n    print(args)\\n    print(kwargs)',\n",
       " '_i29': 'res(1,2,3,4,a=1,b=2)',\n",
       " '_i3': 'test(1,2,3,4,5)',\n",
       " '_i30': 'import pymysql\\nconnet=pymysql.connect(**Config)\\nprint(connect)',\n",
       " '_i31': 'import pymysql\\nconnet=pymysql.connect(**%config)\\nprint(connect)',\n",
       " '_i32': 'import pymysql\\nconnet=pymysql.connect(**config)\\nprint(connect)',\n",
       " '_i33': 'import pymysql\\nconnet=pymysql.connect(**ConnectionResetError)\\nprint(connect)',\n",
       " '_i34': \"import pymysql\\nconnet=pymysql.connect(host='127.0.0.1')\\nprint(connect)\",\n",
       " '_i35': \"import pymysql\\nconnet=pymysql.connect(host='127.0.0.1',user='root')\\nprint(connect)\",\n",
       " '_i36': 'import pymysql\\nconnet=pymysql.connect\\nprint(connect)',\n",
       " '_i37': 'mist=0\\ndef test4():\\n    mist+=100\\n    print(mist)\\ntest4()',\n",
       " '_i38': 'mist=0\\ndef test4():\\n    mist+=100\\n    print(mist)',\n",
       " '_i39': 'test4()',\n",
       " '_i4': 'def test(a,b,c,d,e=100):\\n    print(a,b,c,d,e)\\n    ',\n",
       " '_i40': 'mist=0\\ndef test4():\\n    global mist\\n    \\n    mist+=100\\n    print(mist)',\n",
       " '_i41': 'test4()',\n",
       " '_i42': 'test4()\\nmist2=[]\\ndef test5():\\n    mist2.append(100)\\n    print（mist2）',\n",
       " '_i43': 'test4()\\nmist2=[]\\ndef test5():\\n    mist2.append(100)\\n    print(mist2)',\n",
       " '_i44': 'test5()',\n",
       " '_i45': 'global()',\n",
       " '_i46': 'globals()',\n",
       " '_i5': 'test(1,2,3,4,5)',\n",
       " '_i6': 'test(1,2,3,4)',\n",
       " '_i7': 'test(1,2,3,4)\\ntest(1,2,3,4,5)',\n",
       " '_i8': 'def jjjj():\\n    for i in range(1,10):\\n        if i%2==0:\\n            print(i**2)\\n        elif i%2!=0:\\n            print(i**3)',\n",
       " '_i9': 'jjjj(1)',\n",
       " '_ih': ['',\n",
       "  'def test(a,b,c,d,e):\\n    print(a,b,c,d,e)',\n",
       "  'test(1,2,3.4,5)',\n",
       "  'test(1,2,3,4,5)',\n",
       "  'def test(a,b,c,d,e=100):\\n    print(a,b,c,d,e)\\n    ',\n",
       "  'test(1,2,3,4,5)',\n",
       "  'test(1,2,3,4)',\n",
       "  'test(1,2,3,4)\\ntest(1,2,3,4,5)',\n",
       "  'def jjjj():\\n    for i in range(1,10):\\n        if i%2==0:\\n            print(i**2)\\n        elif i%2!=0:\\n            print(i**3)',\n",
       "  'jjjj(1)',\n",
       "  'jjjj()',\n",
       "  \"def test(a,b,*,c,d=100,e='EVC'):\\n    print(a,b,c,d,e)\",\n",
       "  'test(1,2,c=3,d=4,e=5)',\n",
       "  'test(1,2,c=3)',\n",
       "  'def test(*args):\\n    print(args)',\n",
       "  'test(1,2,3./,6,5./6,6,6/6.6/,6,6,)',\n",
       "  'test(1,2)',\n",
       "  'def test(*args):\\n    print(args)\\n    print(type(args))',\n",
       "  'test(1,2)',\n",
       "  'def test(*joker):\\n    print(joker)\\n    print(type()joker)',\n",
       "  'def test(*joker):\\n    print(joker)\\n    print(type(joker))',\n",
       "  'test(1,2,54)',\n",
       "  'def test(*args):\\n    print(args)\\n    print(type(args))',\n",
       "  'def test2(**kwargs):\\n    print(kwargs)',\n",
       "  'test2(a=1,b=2,c=3',\n",
       "  'test2(a=1,b=2,c=3)',\n",
       "  'test2(a=1,b=2,c=3,d=5)',\n",
       "  'def res(**args,**kwargs):\\n    print(args)\\n    print(kwargs)',\n",
       "  'def res(*args,**kwargs):\\n    print(args)\\n    print(kwargs)',\n",
       "  'res(1,2,3,4,a=1,b=2)',\n",
       "  'import pymysql\\nconnet=pymysql.connect(**Config)\\nprint(connect)',\n",
       "  'import pymysql\\nconnet=pymysql.connect(**%config)\\nprint(connect)',\n",
       "  'import pymysql\\nconnet=pymysql.connect(**config)\\nprint(connect)',\n",
       "  'import pymysql\\nconnet=pymysql.connect(**ConnectionResetError)\\nprint(connect)',\n",
       "  \"import pymysql\\nconnet=pymysql.connect(host='127.0.0.1')\\nprint(connect)\",\n",
       "  \"import pymysql\\nconnet=pymysql.connect(host='127.0.0.1',user='root')\\nprint(connect)\",\n",
       "  'import pymysql\\nconnet=pymysql.connect\\nprint(connect)',\n",
       "  'mist=0\\ndef test4():\\n    mist+=100\\n    print(mist)\\ntest4()',\n",
       "  'mist=0\\ndef test4():\\n    mist+=100\\n    print(mist)',\n",
       "  'test4()',\n",
       "  'mist=0\\ndef test4():\\n    global mist\\n    \\n    mist+=100\\n    print(mist)',\n",
       "  'test4()',\n",
       "  'test4()\\nmist2=[]\\ndef test5():\\n    mist2.append(100)\\n    print（mist2）',\n",
       "  'test4()\\nmist2=[]\\ndef test5():\\n    mist2.append(100)\\n    print(mist2)',\n",
       "  'test5()',\n",
       "  'global()',\n",
       "  'globals()'],\n",
       " '_ii': 'test5()',\n",
       " '_iii': 'test4()\\nmist2=[]\\ndef test5():\\n    mist2.append(100)\\n    print(mist2)',\n",
       " '_oh': {},\n",
       " 'connet': <function pymysql.Connect>,\n",
       " 'exit': <IPython.core.autocall.ZMQExitAutocall at 0x58d1240>,\n",
       " 'get_ipython': <bound method InteractiveShell.get_ipython of <ipykernel.zmqshell.ZMQInteractiveShell object at 0x0000000005874D68>>,\n",
       " 'jjjj': <function __main__.jjjj>,\n",
       " 'mist': 200,\n",
       " 'mist2': [100],\n",
       " 'pymysql': <module 'pymysql' from 'C:\\\\ProgramData\\\\Anaconda3\\\\lib\\\\site-packages\\\\pymysql\\\\__init__.py'>,\n",
       " 'quit': <IPython.core.autocall.ZMQExitAutocall at 0x58d1240>,\n",
       " 'res': <function __main__.res>,\n",
       " 'test': <function __main__.test>,\n",
       " 'test2': <function __main__.test2>,\n",
       " 'test4': <function __main__.test4>,\n",
       " 'test5': <function __main__.test5>}"
      ]
     },
     "execution_count": 46,
     "metadata": {},
     "output_type": "execute_result"
    }
   ],
   "source": [
    "globals()"
   ]
  },
  {
   "cell_type": "code",
   "execution_count": 47,
   "metadata": {},
   "outputs": [
    {
     "data": {
      "text/plain": [
       "{'In': ['',\n",
       "  'def test(a,b,c,d,e):\\n    print(a,b,c,d,e)',\n",
       "  'test(1,2,3.4,5)',\n",
       "  'test(1,2,3,4,5)',\n",
       "  'def test(a,b,c,d,e=100):\\n    print(a,b,c,d,e)\\n    ',\n",
       "  'test(1,2,3,4,5)',\n",
       "  'test(1,2,3,4)',\n",
       "  'test(1,2,3,4)\\ntest(1,2,3,4,5)',\n",
       "  'def jjjj():\\n    for i in range(1,10):\\n        if i%2==0:\\n            print(i**2)\\n        elif i%2!=0:\\n            print(i**3)',\n",
       "  'jjjj(1)',\n",
       "  'jjjj()',\n",
       "  \"def test(a,b,*,c,d=100,e='EVC'):\\n    print(a,b,c,d,e)\",\n",
       "  'test(1,2,c=3,d=4,e=5)',\n",
       "  'test(1,2,c=3)',\n",
       "  'def test(*args):\\n    print(args)',\n",
       "  'test(1,2,3./,6,5./6,6,6/6.6/,6,6,)',\n",
       "  'test(1,2)',\n",
       "  'def test(*args):\\n    print(args)\\n    print(type(args))',\n",
       "  'test(1,2)',\n",
       "  'def test(*joker):\\n    print(joker)\\n    print(type()joker)',\n",
       "  'def test(*joker):\\n    print(joker)\\n    print(type(joker))',\n",
       "  'test(1,2,54)',\n",
       "  'def test(*args):\\n    print(args)\\n    print(type(args))',\n",
       "  'def test2(**kwargs):\\n    print(kwargs)',\n",
       "  'test2(a=1,b=2,c=3',\n",
       "  'test2(a=1,b=2,c=3)',\n",
       "  'test2(a=1,b=2,c=3,d=5)',\n",
       "  'def res(**args,**kwargs):\\n    print(args)\\n    print(kwargs)',\n",
       "  'def res(*args,**kwargs):\\n    print(args)\\n    print(kwargs)',\n",
       "  'res(1,2,3,4,a=1,b=2)',\n",
       "  'import pymysql\\nconnet=pymysql.connect(**Config)\\nprint(connect)',\n",
       "  'import pymysql\\nconnet=pymysql.connect(**%config)\\nprint(connect)',\n",
       "  'import pymysql\\nconnet=pymysql.connect(**config)\\nprint(connect)',\n",
       "  'import pymysql\\nconnet=pymysql.connect(**ConnectionResetError)\\nprint(connect)',\n",
       "  \"import pymysql\\nconnet=pymysql.connect(host='127.0.0.1')\\nprint(connect)\",\n",
       "  \"import pymysql\\nconnet=pymysql.connect(host='127.0.0.1',user='root')\\nprint(connect)\",\n",
       "  'import pymysql\\nconnet=pymysql.connect\\nprint(connect)',\n",
       "  'mist=0\\ndef test4():\\n    mist+=100\\n    print(mist)\\ntest4()',\n",
       "  'mist=0\\ndef test4():\\n    mist+=100\\n    print(mist)',\n",
       "  'test4()',\n",
       "  'mist=0\\ndef test4():\\n    global mist\\n    \\n    mist+=100\\n    print(mist)',\n",
       "  'test4()',\n",
       "  'test4()\\nmist2=[]\\ndef test5():\\n    mist2.append(100)\\n    print（mist2）',\n",
       "  'test4()\\nmist2=[]\\ndef test5():\\n    mist2.append(100)\\n    print(mist2)',\n",
       "  'test5()',\n",
       "  'global()',\n",
       "  'globals()',\n",
       "  'locals()'],\n",
       " 'Out': {46: {...}},\n",
       " '_': {...},\n",
       " '_46': {...},\n",
       " '__': '',\n",
       " '___': '',\n",
       " '__builtin__': <module 'builtins' (built-in)>,\n",
       " '__builtins__': <module 'builtins' (built-in)>,\n",
       " '__doc__': 'Automatically created module for IPython interactive environment',\n",
       " '__loader__': None,\n",
       " '__name__': '__main__',\n",
       " '__package__': None,\n",
       " '__spec__': None,\n",
       " '_dh': ['C:\\\\Users\\\\Administrator\\\\Desktop\\\\codedr\\\\doc_all\\\\Teacher\\\\Python基础'],\n",
       " '_i': 'globals()',\n",
       " '_i1': 'def test(a,b,c,d,e):\\n    print(a,b,c,d,e)',\n",
       " '_i10': 'jjjj()',\n",
       " '_i11': \"def test(a,b,*,c,d=100,e='EVC'):\\n    print(a,b,c,d,e)\",\n",
       " '_i12': 'test(1,2,c=3,d=4,e=5)',\n",
       " '_i13': 'test(1,2,c=3)',\n",
       " '_i14': 'def test(*args):\\n    print(args)',\n",
       " '_i15': 'test(1,2,3./,6,5./6,6,6/6.6/,6,6,)',\n",
       " '_i16': 'test(1,2)',\n",
       " '_i17': 'def test(*args):\\n    print(args)\\n    print(type(args))',\n",
       " '_i18': 'test(1,2)',\n",
       " '_i19': 'def test(*joker):\\n    print(joker)\\n    print(type()joker)',\n",
       " '_i2': 'test(1,2,3.4,5)',\n",
       " '_i20': 'def test(*joker):\\n    print(joker)\\n    print(type(joker))',\n",
       " '_i21': 'test(1,2,54)',\n",
       " '_i22': 'def test(*args):\\n    print(args)\\n    print(type(args))',\n",
       " '_i23': 'def test2(**kwargs):\\n    print(kwargs)',\n",
       " '_i24': 'test2(a=1,b=2,c=3',\n",
       " '_i25': 'test2(a=1,b=2,c=3)',\n",
       " '_i26': 'test2(a=1,b=2,c=3,d=5)',\n",
       " '_i27': 'def res(**args,**kwargs):\\n    print(args)\\n    print(kwargs)',\n",
       " '_i28': 'def res(*args,**kwargs):\\n    print(args)\\n    print(kwargs)',\n",
       " '_i29': 'res(1,2,3,4,a=1,b=2)',\n",
       " '_i3': 'test(1,2,3,4,5)',\n",
       " '_i30': 'import pymysql\\nconnet=pymysql.connect(**Config)\\nprint(connect)',\n",
       " '_i31': 'import pymysql\\nconnet=pymysql.connect(**%config)\\nprint(connect)',\n",
       " '_i32': 'import pymysql\\nconnet=pymysql.connect(**config)\\nprint(connect)',\n",
       " '_i33': 'import pymysql\\nconnet=pymysql.connect(**ConnectionResetError)\\nprint(connect)',\n",
       " '_i34': \"import pymysql\\nconnet=pymysql.connect(host='127.0.0.1')\\nprint(connect)\",\n",
       " '_i35': \"import pymysql\\nconnet=pymysql.connect(host='127.0.0.1',user='root')\\nprint(connect)\",\n",
       " '_i36': 'import pymysql\\nconnet=pymysql.connect\\nprint(connect)',\n",
       " '_i37': 'mist=0\\ndef test4():\\n    mist+=100\\n    print(mist)\\ntest4()',\n",
       " '_i38': 'mist=0\\ndef test4():\\n    mist+=100\\n    print(mist)',\n",
       " '_i39': 'test4()',\n",
       " '_i4': 'def test(a,b,c,d,e=100):\\n    print(a,b,c,d,e)\\n    ',\n",
       " '_i40': 'mist=0\\ndef test4():\\n    global mist\\n    \\n    mist+=100\\n    print(mist)',\n",
       " '_i41': 'test4()',\n",
       " '_i42': 'test4()\\nmist2=[]\\ndef test5():\\n    mist2.append(100)\\n    print（mist2）',\n",
       " '_i43': 'test4()\\nmist2=[]\\ndef test5():\\n    mist2.append(100)\\n    print(mist2)',\n",
       " '_i44': 'test5()',\n",
       " '_i45': 'global()',\n",
       " '_i46': 'globals()',\n",
       " '_i47': 'locals()',\n",
       " '_i5': 'test(1,2,3,4,5)',\n",
       " '_i6': 'test(1,2,3,4)',\n",
       " '_i7': 'test(1,2,3,4)\\ntest(1,2,3,4,5)',\n",
       " '_i8': 'def jjjj():\\n    for i in range(1,10):\\n        if i%2==0:\\n            print(i**2)\\n        elif i%2!=0:\\n            print(i**3)',\n",
       " '_i9': 'jjjj(1)',\n",
       " '_ih': ['',\n",
       "  'def test(a,b,c,d,e):\\n    print(a,b,c,d,e)',\n",
       "  'test(1,2,3.4,5)',\n",
       "  'test(1,2,3,4,5)',\n",
       "  'def test(a,b,c,d,e=100):\\n    print(a,b,c,d,e)\\n    ',\n",
       "  'test(1,2,3,4,5)',\n",
       "  'test(1,2,3,4)',\n",
       "  'test(1,2,3,4)\\ntest(1,2,3,4,5)',\n",
       "  'def jjjj():\\n    for i in range(1,10):\\n        if i%2==0:\\n            print(i**2)\\n        elif i%2!=0:\\n            print(i**3)',\n",
       "  'jjjj(1)',\n",
       "  'jjjj()',\n",
       "  \"def test(a,b,*,c,d=100,e='EVC'):\\n    print(a,b,c,d,e)\",\n",
       "  'test(1,2,c=3,d=4,e=5)',\n",
       "  'test(1,2,c=3)',\n",
       "  'def test(*args):\\n    print(args)',\n",
       "  'test(1,2,3./,6,5./6,6,6/6.6/,6,6,)',\n",
       "  'test(1,2)',\n",
       "  'def test(*args):\\n    print(args)\\n    print(type(args))',\n",
       "  'test(1,2)',\n",
       "  'def test(*joker):\\n    print(joker)\\n    print(type()joker)',\n",
       "  'def test(*joker):\\n    print(joker)\\n    print(type(joker))',\n",
       "  'test(1,2,54)',\n",
       "  'def test(*args):\\n    print(args)\\n    print(type(args))',\n",
       "  'def test2(**kwargs):\\n    print(kwargs)',\n",
       "  'test2(a=1,b=2,c=3',\n",
       "  'test2(a=1,b=2,c=3)',\n",
       "  'test2(a=1,b=2,c=3,d=5)',\n",
       "  'def res(**args,**kwargs):\\n    print(args)\\n    print(kwargs)',\n",
       "  'def res(*args,**kwargs):\\n    print(args)\\n    print(kwargs)',\n",
       "  'res(1,2,3,4,a=1,b=2)',\n",
       "  'import pymysql\\nconnet=pymysql.connect(**Config)\\nprint(connect)',\n",
       "  'import pymysql\\nconnet=pymysql.connect(**%config)\\nprint(connect)',\n",
       "  'import pymysql\\nconnet=pymysql.connect(**config)\\nprint(connect)',\n",
       "  'import pymysql\\nconnet=pymysql.connect(**ConnectionResetError)\\nprint(connect)',\n",
       "  \"import pymysql\\nconnet=pymysql.connect(host='127.0.0.1')\\nprint(connect)\",\n",
       "  \"import pymysql\\nconnet=pymysql.connect(host='127.0.0.1',user='root')\\nprint(connect)\",\n",
       "  'import pymysql\\nconnet=pymysql.connect\\nprint(connect)',\n",
       "  'mist=0\\ndef test4():\\n    mist+=100\\n    print(mist)\\ntest4()',\n",
       "  'mist=0\\ndef test4():\\n    mist+=100\\n    print(mist)',\n",
       "  'test4()',\n",
       "  'mist=0\\ndef test4():\\n    global mist\\n    \\n    mist+=100\\n    print(mist)',\n",
       "  'test4()',\n",
       "  'test4()\\nmist2=[]\\ndef test5():\\n    mist2.append(100)\\n    print（mist2）',\n",
       "  'test4()\\nmist2=[]\\ndef test5():\\n    mist2.append(100)\\n    print(mist2)',\n",
       "  'test5()',\n",
       "  'global()',\n",
       "  'globals()',\n",
       "  'locals()'],\n",
       " '_ii': 'global()',\n",
       " '_iii': 'test5()',\n",
       " '_oh': {46: {...}},\n",
       " 'connet': <function pymysql.Connect>,\n",
       " 'exit': <IPython.core.autocall.ZMQExitAutocall at 0x58d1240>,\n",
       " 'get_ipython': <bound method InteractiveShell.get_ipython of <ipykernel.zmqshell.ZMQInteractiveShell object at 0x0000000005874D68>>,\n",
       " 'jjjj': <function __main__.jjjj>,\n",
       " 'mist': 200,\n",
       " 'mist2': [100],\n",
       " 'pymysql': <module 'pymysql' from 'C:\\\\ProgramData\\\\Anaconda3\\\\lib\\\\site-packages\\\\pymysql\\\\__init__.py'>,\n",
       " 'quit': <IPython.core.autocall.ZMQExitAutocall at 0x58d1240>,\n",
       " 'res': <function __main__.res>,\n",
       " 'test': <function __main__.test>,\n",
       " 'test2': <function __main__.test2>,\n",
       " 'test4': <function __main__.test4>,\n",
       " 'test5': <function __main__.test5>}"
      ]
     },
     "execution_count": 47,
     "metadata": {},
     "output_type": "execute_result"
    }
   ],
   "source": [
    "locals()"
   ]
  },
  {
   "cell_type": "markdown",
   "metadata": {},
   "source": [
    "## 注意：\n",
    "- global ：在进行赋值操作的时候需要声明\n",
    "- 官方解释：This is because when you make an assignment to a variable in a scope, that variable becomes local to that scope and shadows any similarly named variable in the outer scope.\n",
    "- ![](../Photo/73.png)"
   ]
  },
  {
   "cell_type": "code",
   "execution_count": 8,
   "metadata": {},
   "outputs": [
    {
     "name": "stdout",
     "output_type": "stream",
     "text": [
      "1\n",
      "1\n"
     ]
    }
   ],
   "source": [
    "x = 1\n",
    "y = []\n",
    "def test():\n",
    "#     x = x  + 1\n",
    "    y.append(100)\n",
    "    print(x)\n",
    "test()\n",
    "print(x)"
   ]
  },
  {
   "cell_type": "markdown",
   "metadata": {},
   "source": [
    "## EP：\n",
    "- 定义一个邮箱加密函数，使得输入邮箱后进行ASCII码加密\n",
    "- 定义一个判断其是否为闰年的函数\n",
    "- 函数的嵌套：定义两个函数A，B，B函数接受A函数的数值并判定是否为奇数或者偶数"
   ]
  },
  {
   "cell_type": "markdown",
   "metadata": {},
   "source": [
    "# Homework\n",
    "- 1\n",
    "![](../Photo/74.png)"
   ]
  },
  {
   "cell_type": "code",
   "execution_count": 94,
   "metadata": {},
   "outputs": [
    {
     "name": "stdout",
     "output_type": "stream",
     "text": [
      "1.0 5.0 12.0 22.0 35.0 51.0 70.0 92.0 117.0 145.0 \n",
      "176.0 210.0 247.0 287.0 330.0 376.0 425.0 477.0 532.0 590.0 \n",
      "651.0 715.0 782.0 852.0 925.0 1001.0 1080.0 1162.0 1247.0 1335.0 \n",
      "1426.0 1520.0 1617.0 1717.0 1820.0 1926.0 2035.0 2147.0 2262.0 2380.0 \n",
      "2501.0 2625.0 2752.0 2882.0 3015.0 3151.0 3290.0 3432.0 3577.0 3725.0 \n",
      "3876.0 4030.0 4187.0 4347.0 4510.0 4676.0 4845.0 5017.0 5192.0 5370.0 \n",
      "5551.0 5735.0 5922.0 6112.0 6305.0 6501.0 6700.0 6902.0 7107.0 7315.0 \n",
      "7526.0 7740.0 7957.0 8177.0 8400.0 8626.0 8855.0 9087.0 9322.0 9560.0 \n",
      "9801.0 10045.0 10292.0 10542.0 10795.0 11051.0 11310.0 11572.0 11837.0 12105.0 \n",
      "12376.0 12650.0 12927.0 13207.0 13490.0 13776.0 14065.0 14357.0 14652.0 "
     ]
    }
   ],
   "source": [
    "def test(num):\n",
    "    for i in range(1,num):\n",
    "        print(i * (3*i -1) /2,end=' ')\n",
    "        if i % 10 == 0 and i !=0:\n",
    "            print()\n",
    "test(100)"
   ]
  },
  {
   "cell_type": "markdown",
   "metadata": {},
   "source": [
    "- 2 \n",
    "![](../Photo/75.png)"
   ]
  },
  {
   "cell_type": "code",
   "execution_count": 61,
   "metadata": {},
   "outputs": [],
   "source": [
    "def sumDigits(n):\n",
    "    z=0\n",
    "    for i in range(0,len(str(n))):\n",
    "        z+=n//pow(10,i)%10\n",
    "    print(z)       "
   ]
  },
  {
   "cell_type": "code",
   "execution_count": 62,
   "metadata": {},
   "outputs": [
    {
     "name": "stdout",
     "output_type": "stream",
     "text": [
      "9\n"
     ]
    }
   ],
   "source": [
    "sumDigits(234)"
   ]
  },
  {
   "cell_type": "markdown",
   "metadata": {},
   "source": [
    "- 3\n",
    "![](../Photo/76.png)"
   ]
  },
  {
   "cell_type": "code",
   "execution_count": 124,
   "metadata": {},
   "outputs": [],
   "source": [
    "def displaySortedNumbers(num1,num2,num3):\n",
    "    t1=num1\n",
    "    t2=num2\n",
    "    t3=num3\n",
    "    if t1>=t2>=t3:\n",
    "        print(t3,t2,t1)\n",
    "    elif t2>=t1>=t3:\n",
    "        print(t3,t1,t2)\n",
    "    elif t1>=t3>=t2:\n",
    "        print(t2,t3,t1)\n",
    "    elif t2>=t3>=t1:\n",
    "        print(t1,t3,t2)\n",
    "    elif t3>=t1>=t2:\n",
    "        print(t2,t1,t3)\n",
    "    elif t3>=t2>=t1:\n",
    "        print(t1,t2,t3)"
   ]
  },
  {
   "cell_type": "code",
   "execution_count": 125,
   "metadata": {},
   "outputs": [
    {
     "name": "stdout",
     "output_type": "stream",
     "text": [
      "1 6 8\n"
     ]
    }
   ],
   "source": [
    "displaySortedNumbers(1,8,6)"
   ]
  },
  {
   "cell_type": "markdown",
   "metadata": {},
   "source": [
    "- 4\n",
    "![](../Photo/77.png)"
   ]
  },
  {
   "cell_type": "code",
   "execution_count": 73,
   "metadata": {},
   "outputs": [
    {
     "name": "stdout",
     "output_type": "stream",
     "text": [
      "the amount invested:1000\n",
      "Annual interest rate:9\n",
      "Years     Future Value\n",
      "1         1093.81\n",
      "2         1196.41\n",
      "3         1308.65\n",
      "4         1431.41\n",
      "5         1565.68\n",
      "6         1712.55\n",
      "7         1873.20\n",
      "8         2048.92\n",
      "9         2241.12\n",
      "10        2451.36\n",
      "11        2681.31\n",
      "12        2932.84\n",
      "13        3207.96\n",
      "14        3508.89\n",
      "15        3838.04\n",
      "16        4198.08\n",
      "17        4591.89\n",
      "18        5022.64\n",
      "19        5493.80\n",
      "20        6009.15\n",
      "21        6572.85\n",
      "22        7189.43\n",
      "23        7863.85\n",
      "24        8601.53\n",
      "25        9408.41\n",
      "26        10290.99\n",
      "27        11256.35\n",
      "28        12312.28\n",
      "29        13467.25\n",
      "30        14730.58\n"
     ]
    }
   ],
   "source": [
    "def futureInvestmentValue(inva,mir,year):\n",
    "    return inva*(1+mir)**(year*12)\n",
    "\n",
    "amount=eval(input('the amount invested:'))\n",
    "yrate=eval(input('Annual interest rate:'))\n",
    "print('Years     Future Value')\n",
    "for i in range(1,31):\n",
    "    val=futureInvestmentValue(amount,yrate/1200,i)\n",
    "    print('%-10d%.2f'%(i,val))\n",
    "    \n",
    "    "
   ]
  },
  {
   "cell_type": "markdown",
   "metadata": {},
   "source": [
    "- 5\n",
    "![](../Photo/78.png)"
   ]
  },
  {
   "cell_type": "code",
   "execution_count": 105,
   "metadata": {},
   "outputs": [],
   "source": [
    "def printChars(ch1,ch2,numberpirline):\n",
    "    j=0\n",
    "    for i in range(ord(ch1),ord(ch2)+1):\n",
    "        print(chr(i),end=' ')\n",
    "        j+=1\n",
    "        if j%numberpirline==0:\n",
    "            print()\n"
   ]
  },
  {
   "cell_type": "code",
   "execution_count": 106,
   "metadata": {},
   "outputs": [
    {
     "name": "stdout",
     "output_type": "stream",
     "text": [
      "1 2 3 4 5 6 7 8 9 : \n",
      "; < = > ? @ A B C D \n",
      "E F G H I J K L M N \n",
      "O P Q R S T U V W X \n",
      "Y Z "
     ]
    }
   ],
   "source": [
    "printChars('1','Z',10)"
   ]
  },
  {
   "cell_type": "markdown",
   "metadata": {},
   "source": [
    "- 6\n",
    "![](../Photo/79.png)"
   ]
  },
  {
   "cell_type": "code",
   "execution_count": 113,
   "metadata": {},
   "outputs": [],
   "source": [
    "def numberofdaysinayear(year):\n",
    "    if (year%4==0 and (year%100)!=0) or year%400==0:\n",
    "        sy=366\n",
    "    else:\n",
    "        sy=365\n",
    "    print(sy,'天')"
   ]
  },
  {
   "cell_type": "code",
   "execution_count": 118,
   "metadata": {},
   "outputs": [
    {
     "name": "stdout",
     "output_type": "stream",
     "text": [
      "请输入开始年2012\n",
      "请输入结束年2020\n",
      "2012 年\n",
      "366 天\n",
      "2013 年\n",
      "365 天\n",
      "2014 年\n",
      "365 天\n",
      "2015 年\n",
      "365 天\n",
      "2016 年\n",
      "366 天\n",
      "2017 年\n",
      "365 天\n",
      "2018 年\n",
      "365 天\n",
      "2019 年\n",
      "365 天\n"
     ]
    }
   ],
   "source": [
    "tou=eval(input('请输入开始年'))\n",
    "wei=eval(input('请输入结束年'))\n",
    "for i in range(tou,wei):\n",
    "    print(i,'年')\n",
    "    numberofdaysinayear(i)\n"
   ]
  },
  {
   "cell_type": "markdown",
   "metadata": {},
   "source": [
    "- 7\n",
    "![](../Photo/80.png)"
   ]
  },
  {
   "cell_type": "code",
   "execution_count": 128,
   "metadata": {},
   "outputs": [
    {
     "name": "stdout",
     "output_type": "stream",
     "text": [
      "8.764131445842194\n"
     ]
    }
   ],
   "source": [
    "def distance(x1,y1,x2,y2):\n",
    "    s=((x1-x2)*(x1-x2)+(y1-y2)*(y1-y2))**0.5\n",
    "    print(s)\n",
    "distance(1.5,-3.4,4,5)"
   ]
  },
  {
   "cell_type": "markdown",
   "metadata": {},
   "source": [
    "- 8\n",
    "![](../Photo/81.png)"
   ]
  },
  {
   "cell_type": "code",
   "execution_count": null,
   "metadata": {},
   "outputs": [
    {
     "name": "stdout",
     "output_type": "stream",
     "text": [
      "p      2^p-1\n",
      "2       3\n",
      "3       7\n",
      "5       31\n",
      "7       127\n",
      "13      8191\n",
      "17      131071\n",
      "19      524287\n"
     ]
    }
   ],
   "source": [
    "def sss(n):\n",
    "    if n==2:\n",
    "        return 1\n",
    "    for j in range(2,n):\n",
    "        if n%j==0:\n",
    "            break\n",
    "    if j== n-1:\n",
    "        return 1\n",
    "    else:\n",
    "        return 0\n",
    "\n",
    "print('p      2^p-1')\n",
    "for i in range(2,32):\n",
    "    if sss(2**i-1) ==1:\n",
    "        print('%-8d%d'%(i,2**i-1))"
   ]
  },
  {
   "cell_type": "markdown",
   "metadata": {},
   "source": [
    "- 9\n",
    "![](../Photo/82.png)\n",
    "![](../Photo/83.png)"
   ]
  },
  {
   "cell_type": "code",
   "execution_count": 123,
   "metadata": {},
   "outputs": [
    {
     "name": "stdout",
     "output_type": "stream",
     "text": [
      "1532076384.0474007\n",
      "时间为 : Fri Jul 20 16:46:24 2018\n"
     ]
    }
   ],
   "source": [
    "import time\n",
    "s=time.time()\n",
    "print(s)\n",
    "import time\n",
    " \n",
    "localtime = time.asctime( time.localtime(time.time()) )\n",
    "print ('时间为 :', localtime)"
   ]
  },
  {
   "cell_type": "markdown",
   "metadata": {},
   "source": [
    "- 10\n",
    "![](../Photo/84.png)"
   ]
  },
  {
   "cell_type": "code",
   "execution_count": 70,
   "metadata": {},
   "outputs": [],
   "source": [
    "szz111=None\n",
    "szz222=None\n",
    "point=None\n",
    "point1=None\n",
    "def aa():\n",
    "    global szz111,szz222,point,point1\n",
    "    import random\n",
    "    szz111=random.randint(1,6)\n",
    "    szz222=random.randint(1,6)\n",
    "    return szz111,szz222\n",
    "def szz():\n",
    "    aa()\n",
    "    szz1=szz111\n",
    "    szz2=szz222\n",
    "    szzz=szz1+szz2\n",
    "    print('you rolled%d+%d=%d'%(szz1,szz2,szzz))\n",
    "    while 1:\n",
    "        if (szzz==2 or szzz==3 or szzz==12):\n",
    "            print('you lost')\n",
    "            break\n",
    "        elif (szzz==7 or szzz==11):\n",
    "            print('you win')\n",
    "            break\n",
    "        else:\n",
    "            point=szzz\n",
    "            print('point is',point)\n",
    "        \n",
    "               \n",
    "            aa()\n",
    "            szz11=szz111\n",
    "            szz22=szz222\n",
    "            szzzz=szz11+szz22\n",
    "            print('you rolled%d+%d=%d'%(szz11,szz22,szzzz))\n",
    "            point1=szzzz\n",
    "            if szz11+szz22==7:\n",
    "                print('you lost')\n",
    "                break\n",
    "            elif point==point1:\n",
    "                print('you win')\n",
    "                break\n",
    "            else:\n",
    "                point=szzzz\n",
    "                    \n",
    "                    \n",
    "      \n",
    "            \n",
    "    "
   ]
  },
  {
   "cell_type": "code",
   "execution_count": 31,
   "metadata": {},
   "outputs": [
    {
     "name": "stdout",
     "output_type": "stream",
     "text": [
      "you rolled5+6=11\n",
      "you win\n"
     ]
    }
   ],
   "source": [
    "szz()"
   ]
  },
  {
   "cell_type": "code",
   "execution_count": 32,
   "metadata": {},
   "outputs": [
    {
     "name": "stdout",
     "output_type": "stream",
     "text": [
      "you rolled6+6=12\n",
      "you lost\n"
     ]
    }
   ],
   "source": [
    "szz()"
   ]
  },
  {
   "cell_type": "code",
   "execution_count": 36,
   "metadata": {},
   "outputs": [
    {
     "name": "stdout",
     "output_type": "stream",
     "text": [
      "you rolled1+2=3\n",
      "you lost\n"
     ]
    }
   ],
   "source": [
    "szz()"
   ]
  },
  {
   "cell_type": "code",
   "execution_count": 37,
   "metadata": {},
   "outputs": [
    {
     "name": "stdout",
     "output_type": "stream",
     "text": [
      "you rolled1+1=2\n",
      "you lost\n"
     ]
    }
   ],
   "source": [
    "szz()"
   ]
  },
  {
   "cell_type": "code",
   "execution_count": 38,
   "metadata": {},
   "outputs": [
    {
     "name": "stdout",
     "output_type": "stream",
     "text": [
      "you rolled6+1=7\n",
      "you win\n"
     ]
    }
   ],
   "source": [
    "szz()"
   ]
  },
  {
   "cell_type": "code",
   "execution_count": 50,
   "metadata": {},
   "outputs": [
    {
     "name": "stdout",
     "output_type": "stream",
     "text": [
      "you rolled3+6=9\n",
      "point is 9\n",
      "you rolled4+3=7\n",
      "you lost\n"
     ]
    }
   ],
   "source": [
    "szz()\n"
   ]
  },
  {
   "cell_type": "code",
   "execution_count": 55,
   "metadata": {},
   "outputs": [
    {
     "name": "stdout",
     "output_type": "stream",
     "text": [
      "you rolled5+1=6\n",
      "point is 6\n",
      "you rolled4+5=9\n",
      "point is 6\n",
      "you rolled6+3=9\n",
      "point is 6\n",
      "you rolled1+4=5\n",
      "point is 6\n",
      "you rolled1+6=7\n",
      "you lost\n"
     ]
    }
   ],
   "source": [
    "szz()"
   ]
  },
  {
   "cell_type": "code",
   "execution_count": 57,
   "metadata": {},
   "outputs": [
    {
     "name": "stdout",
     "output_type": "stream",
     "text": [
      "you rolled1+5=6\n",
      "point is 6\n",
      "you rolled4+3=7\n",
      "you lost\n"
     ]
    }
   ],
   "source": [
    "szz()"
   ]
  },
  {
   "cell_type": "code",
   "execution_count": 72,
   "metadata": {},
   "outputs": [
    {
     "name": "stdout",
     "output_type": "stream",
     "text": [
      "you rolled6+2=8\n",
      "point is 8\n",
      "you rolled1+3=4\n",
      "point is 8\n",
      "you rolled5+1=6\n",
      "point is 8\n",
      "you rolled3+3=6\n",
      "point is 8\n",
      "you rolled2+6=8\n",
      "you win\n"
     ]
    }
   ],
   "source": [
    "szz()"
   ]
  },
  {
   "cell_type": "markdown",
   "metadata": {},
   "source": [
    "- 11 \n",
    "### 去网上寻找如何用Python代码发送邮件"
   ]
  }
 ],
 "metadata": {
  "kernelspec": {
   "display_name": "Python 3",
   "language": "python",
   "name": "python3"
  },
  "language_info": {
   "codemirror_mode": {
    "name": "ipython",
    "version": 3
   },
   "file_extension": ".py",
   "mimetype": "text/x-python",
   "name": "python",
   "nbconvert_exporter": "python",
   "pygments_lexer": "ipython3",
   "version": "3.6.4"
  }
 },
 "nbformat": 4,
 "nbformat_minor": 2
}
