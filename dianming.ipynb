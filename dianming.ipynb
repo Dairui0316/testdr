{
 "cells": [
  {
   "cell_type": "code",
   "execution_count": 8,
   "metadata": {},
   "outputs": [
    {
     "name": "stdout",
     "output_type": "stream",
     "text": [
      "北京时间 : Wed Jul 18 11:06:40 2018\n",
      "请出示您的git账号： 20\n"
     ]
    }
   ],
   "source": [
    "import random\n",
    "num1=random.randint(0,3)\n",
    "num2=random.randint(0,3)\n",
    "num3=random.randint(0,2)\n",
    "s=str(num1)\n",
    "g=str(num2)\n",
    "g1=str(num3)\n",
    "import time\n",
    " \n",
    "localtime = time.asctime( time.localtime(time.time()))\n",
    "if num1<2:\n",
    "    print(\"北京时间 :\",localtime)\n",
    "    print('请出示您的git账号：',s+g)\n",
    "else: \n",
    "    print(\"北京时间 :\",localtime)\n",
    "    print('请出示您的git账号：',s+g1)"
   ]
  }
 ],
 "metadata": {
  "kernelspec": {
   "display_name": "Python 3",
   "language": "python",
   "name": "python3"
  },
  "language_info": {
   "codemirror_mode": {
    "name": "ipython",
    "version": 3
   },
   "file_extension": ".py",
   "mimetype": "text/x-python",
   "name": "python",
   "nbconvert_exporter": "python",
   "pygments_lexer": "ipython3",
   "version": "3.6.4"
  }
 },
 "nbformat": 4,
 "nbformat_minor": 2
}
